{
  "cells": [
    {
      "cell_type": "code",
      "execution_count": 2,
      "id": "b6c2bbf3-dd50-4942-b6ac-2c6c2c851013",
      "metadata": {
        "id": "b6c2bbf3-dd50-4942-b6ac-2c6c2c851013"
      },
      "outputs": [
        {
          "name": "stdout",
          "output_type": "stream",
          "text": [
            "\n",
            "\n",
            "[11 20 26]\n",
            "0 0 0 0 0 1 1 0 1 1 0 0 1 0 1 1 0 0 1 1 0 1 1 1 0 0 0 1 0 0\n",
            "1 1 1 1 1 0 0 1 0 0 1 0 0 1 0 0 1 1 0 0 0 0 0 0 1 1 0 0 1 1\n",
            "\n",
            "\n"
          ]
        }
      ],
      "source": [
        "from utils import (create_reference_hap, generate_fragments, \n",
        "                   cluster_fragments, simulate_haplotypes_errors,\n",
        "                   generate_matrix_for_visualization, \n",
        "                   get_overlapping_fragments_for_variants_sites,\n",
        "                   get_probability_fragments_from_same_fragment,\n",
        "                   remove_false_variants)\n",
        "\n",
        "from copy import deepcopy\n",
        "\n",
        "ref_length = int(30)\n",
        "H12, false_variant_locs = create_reference_hap(ref_length=ref_length, \n",
        "                                               false_variance = 0.1)\n",
        "ref_H = deepcopy(H12)\n",
        "samples, st_en = generate_fragments(ref_H,\n",
        "                                    read_length=5, \n",
        "                                    std_read_length=1, \n",
        "                                    coverage=6,)\n",
        "\n",
        "\n",
        "hap_samples = deepcopy(samples)\n",
        "start_end = deepcopy(st_en)\n",
        "S1, ST_EN = cluster_fragments(hap_samples, st_en)"
      ]
    },
    {
      "cell_type": "code",
      "execution_count": 3,
      "id": "bfdc4128-7b87-4312-9985-43ba1697a9ba",
      "metadata": {
        "id": "bfdc4128-7b87-4312-9985-43ba1697a9ba"
      },
      "outputs": [],
      "source": [
        "er_hap_samples, sts_ens, frag_file_contents = simulate_haplotypes_errors(hap_samples = S1, \n",
        "                                                                         reads_st_en = ST_EN,\n",
        "                                                                         false_variant_locs = false_variant_locs)"
      ]
    },
    {
      "cell_type": "code",
      "execution_count": 4,
      "id": "d6c679ce-eec2-4df5-aaa0-24e957877c1c",
      "metadata": {
        "colab": {
          "base_uri": "https://localhost:8080/"
        },
        "id": "d6c679ce-eec2-4df5-aaa0-24e957877c1c",
        "outputId": "92171242-d17e-487d-8260-bcceb95757dd"
      },
      "outputs": [
        {
          "name": "stdout",
          "output_type": "stream",
          "text": [
            "False variant locations are [11, 20, 26]\n",
            "reference haplotype values for the variants are:\n",
            "\n",
            "\n",
            "0 0 0 0 0 1 1 0 1 1 0 0 1 0 1 1 0 0 1 1 0 1 1 1 0 0 0 1 0 0\n",
            "1 1 1 1 1 0 0 1 0 0 1 0 0 1 0 0 1 1 0 0 0 0 0 0 1 1 0 0 1 1\n",
            "\n",
            "\n",
            "0 0 0 0 0 - - - - - - - - - - - - - - - - - - - - - - - - -\n",
            "1 1 1 - - - - - - - - - - - - - - - - - - - - - - - - - - -\n",
            "- 1 1 1 1 0 0 - - - - - - - - - - - - - - - - - - - - - - -\n",
            "- - - 0 0 1 1 0 1 - - - - - - - - - - - - - - - - - - - - -\n",
            "- - - 1 1 0 0 1 - - - - - - - - - - - - - - - - - - - - - -\n",
            "- - - 1 1 0 - - - - - - - - - - - - - - - - - - - - - - - -\n",
            "- - - - 1 0 0 1 0 - - - - - - - - - - - - - - - - - - - - -\n",
            "- - - - 1 0 0 - - - - - - - - - - - - - - - - - - - - - - -\n",
            "- - - - - - 0 1 0 0 1 1 - - - - - - - - - - - - - - - - - -\n",
            "- - - - - - - 1 0 0 1 0 - - - - - - - - - - - - - - - - - -\n",
            "- - - - - - - 1 0 0 1 - - - - - - - - - - - - - - - - - - -\n",
            "- - - - - - - 1 0 0 1 - - - - - - - - - - - - - - - - - - -\n",
            "- - - - - - - - 1 1 0 0 1 - - - - - - - - - - - - - - - - -\n",
            "- - - - - - - - 0 0 1 1 0 - - - - - - - - - - - - - - - - -\n",
            "- - - - - - - - - 1 0 1 1 - - - - - - - - - - - - - - - - -\n",
            "- - - - - - - - - 1 0 0 - - - - - - - - - - - - - - - - - -\n",
            "- - - - - - - - - 1 0 0 - - - - - - - - - - - - - - - - - -\n",
            "- - - - - - - - - - - - 1 0 1 1 0 0 - - - - - - - - - - - -\n",
            "- - - - - - - - - - - - 1 0 1 1 0 - - - - - - - - - - - - -\n",
            "- - - - - - - - - - - - 0 1 0 0 - - - - - - - - - - - - - -\n",
            "- - - - - - - - - - - - 0 1 - - - - - - - - - - - - - - - -\n",
            "- - - - - - - - - - - - - 1 0 0 1 1 - - - - - - - - - - - -\n",
            "- - - - - - - - - - - - - 0 1 1 0 - - - - - - - - - - - - -\n",
            "- - - - - - - - - - - - - 1 0 0 1 - - - - - - - - - - - - -\n",
            "- - - - - - - - - - - - - 1 0 0 - - - - - - - - - - - - - -\n",
            "- - - - - - - - - - - - - 0 1 1 - - - - - - - - - - - - - -\n",
            "- - - - - - - - - - - - - - 0 0 1 1 - - - - - - - - - - - -\n",
            "- - - - - - - - - - - - - - - 0 1 1 0 0 - - - - - - - - - -\n",
            "- - - - - - - - - - - - - - - - - - - 0 0 0 0 0 1 1 - - - -\n",
            "- - - - - - - - - - - - - - - - - - - - 0 0 0 0 1 - - - - -\n",
            "- - - - - - - - - - - - - - - - - - - - 1 0 0 0 - - - - - -\n",
            "- - - - - - - - - - - - - - - - - - - - - 1 1 1 0 0 - - - -\n",
            "- - - - - - - - - - - - - - - - - - - - - 0 0 0 1 - - - - -\n",
            "- - - - - - - - - - - - - - - - - - - - - - 0 0 1 - - - - -\n",
            "- - - - - - - - - - - - - - - - - - - - - - - 1 0 0 1 - - -\n",
            "- - - - - - - - - - - - - - - - - - - - - - - - 1 1 1 0 1 -\n"
          ]
        }
      ],
      "source": [
        "generate_matrix_for_visualization(ref_H, false_variant_locs, # er_hap_samples, sts_ens)\n",
        "                                  S1, ST_EN)\n"
      ]
    },
    {
      "cell_type": "code",
      "execution_count": 5,
      "id": "a55e2118",
      "metadata": {},
      "outputs": [
        {
          "name": "stdout",
          "output_type": "stream",
          "text": [
            "> \u001b[1;32mc:\\users\\91821\\documents\\github\\hapcut_preprocessing\\utils.py\u001b[0m(344)\u001b[0;36mremove_false_variants\u001b[1;34m()\u001b[0m\n",
            "\u001b[1;32m    342 \u001b[1;33m    \u001b[1;32mimport\u001b[0m \u001b[0mpdb\u001b[0m\u001b[1;33m;\u001b[0m\u001b[0mpdb\u001b[0m\u001b[1;33m.\u001b[0m\u001b[0mset_trace\u001b[0m\u001b[1;33m(\u001b[0m\u001b[1;33m)\u001b[0m\u001b[1;33m\u001b[0m\u001b[1;33m\u001b[0m\u001b[0m\n",
            "\u001b[0m\u001b[1;32m    343 \u001b[1;33m    \u001b[1;32mwhile\u001b[0m \u001b[1;32mTrue\u001b[0m\u001b[1;33m:\u001b[0m\u001b[1;33m\u001b[0m\u001b[1;33m\u001b[0m\u001b[0m\n",
            "\u001b[0m\u001b[1;32m--> 344 \u001b[1;33m        \u001b[0mlikelihood_false_variants\u001b[0m \u001b[1;33m=\u001b[0m \u001b[1;33m[\u001b[0m\u001b[1;33m]\u001b[0m\u001b[1;33m\u001b[0m\u001b[1;33m\u001b[0m\u001b[0m\n",
            "\u001b[0m\u001b[1;32m    345 \u001b[1;33m        \u001b[1;32mfor\u001b[0m \u001b[0mi\u001b[0m \u001b[1;32min\u001b[0m \u001b[0mrange\u001b[0m\u001b[1;33m(\u001b[0m\u001b[0mlen\u001b[0m\u001b[1;33m(\u001b[0m\u001b[0mref_H\u001b[0m\u001b[1;33m[\u001b[0m\u001b[1;36m0\u001b[0m\u001b[1;33m]\u001b[0m\u001b[1;33m)\u001b[0m\u001b[1;33m)\u001b[0m\u001b[1;33m:\u001b[0m\u001b[1;33m\u001b[0m\u001b[1;33m\u001b[0m\u001b[0m\n",
            "\u001b[0m\u001b[1;32m    346 \u001b[1;33m            \u001b[0mlikelihood_false_variants\u001b[0m\u001b[1;33m.\u001b[0m\u001b[0mappend\u001b[0m\u001b[1;33m(\u001b[0m\u001b[1;33m(\u001b[0m\u001b[0mcalculate_likelihood_of_heterozygous_site\u001b[0m\u001b[1;33m(\u001b[0m\u001b[0mreads\u001b[0m\u001b[1;33m,\u001b[0m \u001b[0mst_en\u001b[0m\u001b[1;33m,\u001b[0m \u001b[0mi\u001b[0m\u001b[1;33m,\u001b[0m \u001b[0mqual\u001b[0m\u001b[1;33m,\u001b[0m \u001b[0mref_H\u001b[0m\u001b[1;33m)\u001b[0m\u001b[1;33m,\u001b[0m \u001b[0mi\u001b[0m\u001b[1;33m)\u001b[0m\u001b[1;33m)\u001b[0m\u001b[1;33m\u001b[0m\u001b[1;33m\u001b[0m\u001b[0m\n",
            "\u001b[0m\n",
            "> \u001b[1;32mc:\\users\\91821\\documents\\github\\hapcut_preprocessing\\utils.py\u001b[0m(345)\u001b[0;36mremove_false_variants\u001b[1;34m()\u001b[0m\n",
            "\u001b[1;32m    343 \u001b[1;33m    \u001b[1;32mwhile\u001b[0m \u001b[1;32mTrue\u001b[0m\u001b[1;33m:\u001b[0m\u001b[1;33m\u001b[0m\u001b[1;33m\u001b[0m\u001b[0m\n",
            "\u001b[0m\u001b[1;32m    344 \u001b[1;33m        \u001b[0mlikelihood_false_variants\u001b[0m \u001b[1;33m=\u001b[0m \u001b[1;33m[\u001b[0m\u001b[1;33m]\u001b[0m\u001b[1;33m\u001b[0m\u001b[1;33m\u001b[0m\u001b[0m\n",
            "\u001b[0m\u001b[1;32m--> 345 \u001b[1;33m        \u001b[1;32mfor\u001b[0m \u001b[0mi\u001b[0m \u001b[1;32min\u001b[0m \u001b[0mrange\u001b[0m\u001b[1;33m(\u001b[0m\u001b[0mlen\u001b[0m\u001b[1;33m(\u001b[0m\u001b[0mref_H\u001b[0m\u001b[1;33m[\u001b[0m\u001b[1;36m0\u001b[0m\u001b[1;33m]\u001b[0m\u001b[1;33m)\u001b[0m\u001b[1;33m)\u001b[0m\u001b[1;33m:\u001b[0m\u001b[1;33m\u001b[0m\u001b[1;33m\u001b[0m\u001b[0m\n",
            "\u001b[0m\u001b[1;32m    346 \u001b[1;33m            \u001b[0mlikelihood_false_variants\u001b[0m\u001b[1;33m.\u001b[0m\u001b[0mappend\u001b[0m\u001b[1;33m(\u001b[0m\u001b[1;33m(\u001b[0m\u001b[0mcalculate_likelihood_of_heterozygous_site\u001b[0m\u001b[1;33m(\u001b[0m\u001b[0mreads\u001b[0m\u001b[1;33m,\u001b[0m \u001b[0mst_en\u001b[0m\u001b[1;33m,\u001b[0m \u001b[0mi\u001b[0m\u001b[1;33m,\u001b[0m \u001b[0mqual\u001b[0m\u001b[1;33m,\u001b[0m \u001b[0mref_H\u001b[0m\u001b[1;33m)\u001b[0m\u001b[1;33m,\u001b[0m \u001b[0mi\u001b[0m\u001b[1;33m)\u001b[0m\u001b[1;33m)\u001b[0m\u001b[1;33m\u001b[0m\u001b[1;33m\u001b[0m\u001b[0m\n",
            "\u001b[0m\u001b[1;32m    347 \u001b[1;33m        \u001b[0mpdb\u001b[0m\u001b[1;33m.\u001b[0m\u001b[0mset_trace\u001b[0m\u001b[1;33m(\u001b[0m\u001b[1;33m)\u001b[0m\u001b[1;33m\u001b[0m\u001b[1;33m\u001b[0m\u001b[0m\n",
            "\u001b[0m\n",
            "> \u001b[1;32mc:\\users\\91821\\documents\\github\\hapcut_preprocessing\\utils.py\u001b[0m(348)\u001b[0;36mremove_false_variants\u001b[1;34m()\u001b[0m\n",
            "\u001b[1;32m    346 \u001b[1;33m            \u001b[0mlikelihood_false_variants\u001b[0m\u001b[1;33m.\u001b[0m\u001b[0mappend\u001b[0m\u001b[1;33m(\u001b[0m\u001b[1;33m(\u001b[0m\u001b[0mcalculate_likelihood_of_heterozygous_site\u001b[0m\u001b[1;33m(\u001b[0m\u001b[0mreads\u001b[0m\u001b[1;33m,\u001b[0m \u001b[0mst_en\u001b[0m\u001b[1;33m,\u001b[0m \u001b[0mi\u001b[0m\u001b[1;33m,\u001b[0m \u001b[0mqual\u001b[0m\u001b[1;33m,\u001b[0m \u001b[0mref_H\u001b[0m\u001b[1;33m)\u001b[0m\u001b[1;33m,\u001b[0m \u001b[0mi\u001b[0m\u001b[1;33m)\u001b[0m\u001b[1;33m)\u001b[0m\u001b[1;33m\u001b[0m\u001b[1;33m\u001b[0m\u001b[0m\n",
            "\u001b[0m\u001b[1;32m    347 \u001b[1;33m        \u001b[0mpdb\u001b[0m\u001b[1;33m.\u001b[0m\u001b[0mset_trace\u001b[0m\u001b[1;33m(\u001b[0m\u001b[1;33m)\u001b[0m\u001b[1;33m\u001b[0m\u001b[1;33m\u001b[0m\u001b[0m\n",
            "\u001b[0m\u001b[1;32m--> 348 \u001b[1;33m        \u001b[0mlikelihood_false_variants\u001b[0m \u001b[1;33m=\u001b[0m \u001b[0msorted\u001b[0m\u001b[1;33m(\u001b[0m\u001b[0mlikelihood_false_variants\u001b[0m\u001b[1;33m)\u001b[0m\u001b[1;33m\u001b[0m\u001b[1;33m\u001b[0m\u001b[0m\n",
            "\u001b[0m\u001b[1;32m    349 \u001b[1;33m        \u001b[0mfalse_variant_exists\u001b[0m \u001b[1;33m=\u001b[0m \u001b[1;32mFalse\u001b[0m\u001b[1;33m\u001b[0m\u001b[1;33m\u001b[0m\u001b[0m\n",
            "\u001b[0m\u001b[1;32m    350 \u001b[1;33m        \u001b[0mfalse_variant_locs\u001b[0m \u001b[1;33m=\u001b[0m \u001b[1;33m[\u001b[0m\u001b[1;33m]\u001b[0m\u001b[1;33m\u001b[0m\u001b[1;33m\u001b[0m\u001b[0m\n",
            "\u001b[0m\n",
            "> \u001b[1;32mc:\\users\\91821\\documents\\github\\hapcut_preprocessing\\utils.py\u001b[0m(349)\u001b[0;36mremove_false_variants\u001b[1;34m()\u001b[0m\n",
            "\u001b[1;32m    347 \u001b[1;33m        \u001b[0mpdb\u001b[0m\u001b[1;33m.\u001b[0m\u001b[0mset_trace\u001b[0m\u001b[1;33m(\u001b[0m\u001b[1;33m)\u001b[0m\u001b[1;33m\u001b[0m\u001b[1;33m\u001b[0m\u001b[0m\n",
            "\u001b[0m\u001b[1;32m    348 \u001b[1;33m        \u001b[0mlikelihood_false_variants\u001b[0m \u001b[1;33m=\u001b[0m \u001b[0msorted\u001b[0m\u001b[1;33m(\u001b[0m\u001b[0mlikelihood_false_variants\u001b[0m\u001b[1;33m)\u001b[0m\u001b[1;33m\u001b[0m\u001b[1;33m\u001b[0m\u001b[0m\n",
            "\u001b[0m\u001b[1;32m--> 349 \u001b[1;33m        \u001b[0mfalse_variant_exists\u001b[0m \u001b[1;33m=\u001b[0m \u001b[1;32mFalse\u001b[0m\u001b[1;33m\u001b[0m\u001b[1;33m\u001b[0m\u001b[0m\n",
            "\u001b[0m\u001b[1;32m    350 \u001b[1;33m        \u001b[0mfalse_variant_locs\u001b[0m \u001b[1;33m=\u001b[0m \u001b[1;33m[\u001b[0m\u001b[1;33m]\u001b[0m\u001b[1;33m\u001b[0m\u001b[1;33m\u001b[0m\u001b[0m\n",
            "\u001b[0m\u001b[1;32m    351 \u001b[1;33m        \u001b[1;32mfor\u001b[0m \u001b[0mlikelihood\u001b[0m\u001b[1;33m,\u001b[0m \u001b[0midx\u001b[0m \u001b[1;32min\u001b[0m \u001b[0mlikelihood_false_variants\u001b[0m\u001b[1;33m:\u001b[0m\u001b[1;33m\u001b[0m\u001b[1;33m\u001b[0m\u001b[0m\n",
            "\u001b[0m\n",
            "*** NameError: name 'likelihood_false_varaints' is not defined\n",
            "[(1.014752347085214e-18, 12), (3.098854274547719e-09, 9), (1.5782885290578778e-08, 10), (1.566520867993815e-07, 13), (1.3232748627857452e-06, 3), (1.3829645220053962e-06, 8), (1.426897054044643e-06, 7), (1.7452907979455842e-06, 24), (1.6233680177989915e-05, 22), (5.2208471387961304e-05, 21), (0.00015717284784767704, 20), (0.00017430826029385778, 25), (0.0001855884229992198, 23), (0.0005556851777076708, 4), (0.0005647935999999998, 27), (0.0007898535073228152, 16), (0.0008745649899927757, 15), (0.0008931411367640751, 14), (0.0016777105319692126, 11), (0.00788132428326338, 17), (0.008904541862504027, 5), (0.009641955471052031, 6), (0.013295241343999998, 1), (0.08700056203910263, 18), (0.09058937920947747, 26), (0.21739675865599994, 2), (0.46138399999999985, 0), (0.49999999999999994, 19), (1.0, 28), (1.0, 29)]\n"
          ]
        },
        {
          "ename": "BdbQuit",
          "evalue": "",
          "output_type": "error",
          "traceback": [
            "\u001b[1;31m---------------------------------------------------------------------------\u001b[0m",
            "\u001b[1;31mBdbQuit\u001b[0m                                   Traceback (most recent call last)",
            "\u001b[1;32m<ipython-input-5-2bdd6edcaaca>\u001b[0m in \u001b[0;36m<module>\u001b[1;34m\u001b[0m\n\u001b[1;32m----> 1\u001b[1;33m \u001b[0mremove_false_variants\u001b[0m\u001b[1;33m(\u001b[0m\u001b[0mS1\u001b[0m\u001b[1;33m,\u001b[0m \u001b[0mST_EN\u001b[0m\u001b[1;33m,\u001b[0m \u001b[1;36m0.02\u001b[0m\u001b[1;33m,\u001b[0m \u001b[1;36m0.0003\u001b[0m\u001b[1;33m,\u001b[0m \u001b[0mref_H\u001b[0m\u001b[1;33m)\u001b[0m\u001b[1;33m\u001b[0m\u001b[1;33m\u001b[0m\u001b[0m\n\u001b[0m",
            "\u001b[1;32mc:\\Users\\91821\\Documents\\GitHub\\HAPCUT_preprocessing\\utils.py\u001b[0m in \u001b[0;36mremove_false_variants\u001b[1;34m(reads, st_en, qual, threshold, ref_H)\u001b[0m\n\u001b[0;32m    347\u001b[0m         \u001b[0mpdb\u001b[0m\u001b[1;33m.\u001b[0m\u001b[0mset_trace\u001b[0m\u001b[1;33m(\u001b[0m\u001b[1;33m)\u001b[0m\u001b[1;33m\u001b[0m\u001b[1;33m\u001b[0m\u001b[0m\n\u001b[0;32m    348\u001b[0m         \u001b[0mlikelihood_false_variants\u001b[0m \u001b[1;33m=\u001b[0m \u001b[0msorted\u001b[0m\u001b[1;33m(\u001b[0m\u001b[0mlikelihood_false_variants\u001b[0m\u001b[1;33m)\u001b[0m\u001b[1;33m\u001b[0m\u001b[1;33m\u001b[0m\u001b[0m\n\u001b[1;32m--> 349\u001b[1;33m         \u001b[0mfalse_variant_exists\u001b[0m \u001b[1;33m=\u001b[0m \u001b[1;32mFalse\u001b[0m\u001b[1;33m\u001b[0m\u001b[1;33m\u001b[0m\u001b[0m\n\u001b[0m\u001b[0;32m    350\u001b[0m         \u001b[0mfalse_variant_locs\u001b[0m \u001b[1;33m=\u001b[0m \u001b[1;33m[\u001b[0m\u001b[1;33m]\u001b[0m\u001b[1;33m\u001b[0m\u001b[1;33m\u001b[0m\u001b[0m\n\u001b[0;32m    351\u001b[0m         \u001b[1;32mfor\u001b[0m \u001b[0mlikelihood\u001b[0m\u001b[1;33m,\u001b[0m \u001b[0midx\u001b[0m \u001b[1;32min\u001b[0m \u001b[0mlikelihood_false_variants\u001b[0m\u001b[1;33m:\u001b[0m\u001b[1;33m\u001b[0m\u001b[1;33m\u001b[0m\u001b[0m\n",
            "\u001b[1;32mc:\\Users\\91821\\Documents\\GitHub\\HAPCUT_preprocessing\\utils.py\u001b[0m in \u001b[0;36mremove_false_variants\u001b[1;34m(reads, st_en, qual, threshold, ref_H)\u001b[0m\n\u001b[0;32m    347\u001b[0m         \u001b[0mpdb\u001b[0m\u001b[1;33m.\u001b[0m\u001b[0mset_trace\u001b[0m\u001b[1;33m(\u001b[0m\u001b[1;33m)\u001b[0m\u001b[1;33m\u001b[0m\u001b[1;33m\u001b[0m\u001b[0m\n\u001b[0;32m    348\u001b[0m         \u001b[0mlikelihood_false_variants\u001b[0m \u001b[1;33m=\u001b[0m \u001b[0msorted\u001b[0m\u001b[1;33m(\u001b[0m\u001b[0mlikelihood_false_variants\u001b[0m\u001b[1;33m)\u001b[0m\u001b[1;33m\u001b[0m\u001b[1;33m\u001b[0m\u001b[0m\n\u001b[1;32m--> 349\u001b[1;33m         \u001b[0mfalse_variant_exists\u001b[0m \u001b[1;33m=\u001b[0m \u001b[1;32mFalse\u001b[0m\u001b[1;33m\u001b[0m\u001b[1;33m\u001b[0m\u001b[0m\n\u001b[0m\u001b[0;32m    350\u001b[0m         \u001b[0mfalse_variant_locs\u001b[0m \u001b[1;33m=\u001b[0m \u001b[1;33m[\u001b[0m\u001b[1;33m]\u001b[0m\u001b[1;33m\u001b[0m\u001b[1;33m\u001b[0m\u001b[0m\n\u001b[0;32m    351\u001b[0m         \u001b[1;32mfor\u001b[0m \u001b[0mlikelihood\u001b[0m\u001b[1;33m,\u001b[0m \u001b[0midx\u001b[0m \u001b[1;32min\u001b[0m \u001b[0mlikelihood_false_variants\u001b[0m\u001b[1;33m:\u001b[0m\u001b[1;33m\u001b[0m\u001b[1;33m\u001b[0m\u001b[0m\n",
            "\u001b[1;32m~\\anaconda3\\lib\\bdb.py\u001b[0m in \u001b[0;36mtrace_dispatch\u001b[1;34m(self, frame, event, arg)\u001b[0m\n\u001b[0;32m     86\u001b[0m             \u001b[1;32mreturn\u001b[0m \u001b[1;31m# None\u001b[0m\u001b[1;33m\u001b[0m\u001b[1;33m\u001b[0m\u001b[0m\n\u001b[0;32m     87\u001b[0m         \u001b[1;32mif\u001b[0m \u001b[0mevent\u001b[0m \u001b[1;33m==\u001b[0m \u001b[1;34m'line'\u001b[0m\u001b[1;33m:\u001b[0m\u001b[1;33m\u001b[0m\u001b[1;33m\u001b[0m\u001b[0m\n\u001b[1;32m---> 88\u001b[1;33m             \u001b[1;32mreturn\u001b[0m \u001b[0mself\u001b[0m\u001b[1;33m.\u001b[0m\u001b[0mdispatch_line\u001b[0m\u001b[1;33m(\u001b[0m\u001b[0mframe\u001b[0m\u001b[1;33m)\u001b[0m\u001b[1;33m\u001b[0m\u001b[1;33m\u001b[0m\u001b[0m\n\u001b[0m\u001b[0;32m     89\u001b[0m         \u001b[1;32mif\u001b[0m \u001b[0mevent\u001b[0m \u001b[1;33m==\u001b[0m \u001b[1;34m'call'\u001b[0m\u001b[1;33m:\u001b[0m\u001b[1;33m\u001b[0m\u001b[1;33m\u001b[0m\u001b[0m\n\u001b[0;32m     90\u001b[0m             \u001b[1;32mreturn\u001b[0m \u001b[0mself\u001b[0m\u001b[1;33m.\u001b[0m\u001b[0mdispatch_call\u001b[0m\u001b[1;33m(\u001b[0m\u001b[0mframe\u001b[0m\u001b[1;33m,\u001b[0m \u001b[0marg\u001b[0m\u001b[1;33m)\u001b[0m\u001b[1;33m\u001b[0m\u001b[1;33m\u001b[0m\u001b[0m\n",
            "\u001b[1;32m~\\anaconda3\\lib\\bdb.py\u001b[0m in \u001b[0;36mdispatch_line\u001b[1;34m(self, frame)\u001b[0m\n\u001b[0;32m    111\u001b[0m         \u001b[1;32mif\u001b[0m \u001b[0mself\u001b[0m\u001b[1;33m.\u001b[0m\u001b[0mstop_here\u001b[0m\u001b[1;33m(\u001b[0m\u001b[0mframe\u001b[0m\u001b[1;33m)\u001b[0m \u001b[1;32mor\u001b[0m \u001b[0mself\u001b[0m\u001b[1;33m.\u001b[0m\u001b[0mbreak_here\u001b[0m\u001b[1;33m(\u001b[0m\u001b[0mframe\u001b[0m\u001b[1;33m)\u001b[0m\u001b[1;33m:\u001b[0m\u001b[1;33m\u001b[0m\u001b[1;33m\u001b[0m\u001b[0m\n\u001b[0;32m    112\u001b[0m             \u001b[0mself\u001b[0m\u001b[1;33m.\u001b[0m\u001b[0muser_line\u001b[0m\u001b[1;33m(\u001b[0m\u001b[0mframe\u001b[0m\u001b[1;33m)\u001b[0m\u001b[1;33m\u001b[0m\u001b[1;33m\u001b[0m\u001b[0m\n\u001b[1;32m--> 113\u001b[1;33m             \u001b[1;32mif\u001b[0m \u001b[0mself\u001b[0m\u001b[1;33m.\u001b[0m\u001b[0mquitting\u001b[0m\u001b[1;33m:\u001b[0m \u001b[1;32mraise\u001b[0m \u001b[0mBdbQuit\u001b[0m\u001b[1;33m\u001b[0m\u001b[1;33m\u001b[0m\u001b[0m\n\u001b[0m\u001b[0;32m    114\u001b[0m         \u001b[1;32mreturn\u001b[0m \u001b[0mself\u001b[0m\u001b[1;33m.\u001b[0m\u001b[0mtrace_dispatch\u001b[0m\u001b[1;33m\u001b[0m\u001b[1;33m\u001b[0m\u001b[0m\n\u001b[0;32m    115\u001b[0m \u001b[1;33m\u001b[0m\u001b[0m\n",
            "\u001b[1;31mBdbQuit\u001b[0m: "
          ]
        }
      ],
      "source": [
        "remove_false_variants(S1, ST_EN, 0.02, 0.0003, ref_H)"
      ]
    },
    {
      "cell_type": "code",
      "execution_count": 1,
      "id": "6d7cc75d",
      "metadata": {},
      "outputs": [],
      "source": [
        "\n",
        "  \n"
      ]
    },
    {
      "cell_type": "code",
      "execution_count": 2,
      "id": "beeb3499",
      "metadata": {},
      "outputs": [],
      "source": [
        "\n",
        "    \n",
        "    "
      ]
    },
    {
      "cell_type": "code",
      "execution_count": 3,
      "id": "0e164272",
      "metadata": {},
      "outputs": [],
      "source": []
    },
    {
      "cell_type": "code",
      "execution_count": 37,
      "id": "e1d3a6aa",
      "metadata": {},
      "outputs": [],
      "source": [
        "\n",
        "\n"
      ]
    },
    {
      "cell_type": "code",
      "execution_count": 39,
      "id": "f833df1d",
      "metadata": {},
      "outputs": [
        {
          "name": "stdout",
          "output_type": "stream",
          "text": [
            "[13 22 25]\n"
          ]
        },
        {
          "data": {
            "text/plain": [
              "[(5.324177199394176e-12, 23),\n",
              " (9.184997998436638e-11, 19),\n",
              " (1.1009455514679497e-08, 20),\n",
              " (2.4501060351892216e-08, 17),\n",
              " (5.6072650762281196e-08, 21),\n",
              " (6.044219720004228e-07, 13),\n",
              " (1.4257579108034304e-06, 15),\n",
              " (2.9192352046435855e-06, 18),\n",
              " (3.2221714671991203e-06, 24),\n",
              " (7.043625959125479e-06, 14),\n",
              " (1.4867828454595327e-05, 16),\n",
              " (0.00025026324495828984, 26),\n",
              " (0.0002977469093249775, 22),\n",
              " (0.0007716671965203708, 11),\n",
              " (0.0012807270859502072, 9),\n",
              " (0.0017052756272155814, 6),\n",
              " (0.0018880628215111302, 12),\n",
              " (0.003926919318680138, 28),\n",
              " (0.003967007988244284, 5),\n",
              " (0.004092172293601708, 27),\n",
              " (0.018898226303321053, 4),\n",
              " (0.019677787693010755, 7),\n",
              " (0.019693509730169152, 10),\n",
              " (0.020095752597280313, 8),\n",
              " (0.04355466361783209, 2),\n",
              " (0.04355466361783209, 3),\n",
              " (0.09243814269135009, 25),\n",
              " (0.2044385315539353, 0),\n",
              " (0.2044385315539353, 1),\n",
              " (nan, 29)]"
            ]
          },
          "execution_count": 39,
          "metadata": {},
          "output_type": "execute_result"
        }
      ],
      "source": [
        "print(false_variant_locs)\n",
        "res"
      ]
    },
    {
      "cell_type": "code",
      "execution_count": 80,
      "id": "c43ff002",
      "metadata": {},
      "outputs": [
        {
          "name": "stdout",
          "output_type": "stream",
          "text": [
            "False variant locations are [3, 5, 6]\n",
            "reference haplotype values for the variants are:\n",
            "\n",
            "\n",
            "1 0 0 1 0 1 1 0 0 1 0 1 1 0 0 0 1 1 1 1 1 0 0 1 1 0 0 0 1 0\n",
            "0 1 1 1 1 1 1 1 1 0 1 0 0 1 1 1 0 0 0 0 0 1 1 0 0 1 1 1 0 1\n",
            "\n",
            "\n",
            "- - - - - - - - - - - - - - - - 0 0 0 0 0 1 - - - - - - - -\n",
            "- - - - - - - - - - - - - - - - - - - 0 0 1 1 - - - - - - -\n",
            "- - - - - - - - - - - - - - - - - - - 1 1 0 0 - - - - - - -\n",
            "- - - - - - - - - - - - - - - - - - - 0 0 1 1 0 - - - - - -\n",
            "- - - - - - - - - - - - - - - - - - - 0 0 1 1 0 0 - - - - -\n",
            "- - - - - - - - - - - - - - - - - - - 1 1 0 0 1 1 0 - - - -\n",
            "- - - - - - - - - - - - - - - - - - - - - 1 1 0 - - - - - -\n",
            "- - - - - - - - - - - - - - - - - - - - - 0 0 1 1 - - - - -\n",
            "- - - - - - - - - - - - - - - - - - - - - 0 0 1 1 0 0 - - -\n"
          ]
        }
      ],
      "source": [
        "\n",
        "over_S, over_st_en =  get_overlapping_fragments_for_variants_sites(S1, ST_EN, 22)\n",
        "generate_matrix_for_visualization(ref_H, false_variant_locs, # er_hap_samples, sts_ens)\n",
        "                                  over_S, over_st_en)"
      ]
    },
    {
      "cell_type": "code",
      "execution_count": 4,
      "id": "22c65c6d-8121-463d-ba30-757820ff34e8",
      "metadata": {
        "colab": {
          "base_uri": "https://localhost:8080/"
        },
        "id": "22c65c6d-8121-463d-ba30-757820ff34e8",
        "outputId": "4959fa69-1aa2-453e-97c7-19cc97bbaced"
      },
      "outputs": [
        {
          "ename": "NameError",
          "evalue": "name 'get_probability_fragments_from_same_fragment' is not defined",
          "output_type": "error",
          "traceback": [
            "\u001b[1;31m---------------------------------------------------------------------------\u001b[0m",
            "\u001b[1;31mNameError\u001b[0m                                 Traceback (most recent call last)",
            "\u001b[1;32m<ipython-input-4-739a3a560759>\u001b[0m in \u001b[0;36m<module>\u001b[1;34m\u001b[0m\n\u001b[1;32m----> 1\u001b[1;33m \u001b[0mprint\u001b[0m\u001b[1;33m(\u001b[0m\u001b[0mget_probability_fragments_from_same_fragment\u001b[0m\u001b[1;33m(\u001b[0m\u001b[0mS1\u001b[0m\u001b[1;33m[\u001b[0m\u001b[1;36m2\u001b[0m\u001b[1;33m:\u001b[0m\u001b[1;36m2\u001b[0m\u001b[1;33m+\u001b[0m\u001b[1;36m2\u001b[0m\u001b[1;33m]\u001b[0m\u001b[1;33m,\u001b[0m \u001b[0mST_EN\u001b[0m\u001b[1;33m[\u001b[0m\u001b[1;36m2\u001b[0m\u001b[1;33m:\u001b[0m\u001b[1;36m2\u001b[0m\u001b[1;33m+\u001b[0m\u001b[1;36m2\u001b[0m\u001b[1;33m]\u001b[0m\u001b[1;33m,\u001b[0m \u001b[1;36m3\u001b[0m\u001b[1;33m,\u001b[0m \u001b[1;36m0.02\u001b[0m\u001b[1;33m)\u001b[0m\u001b[1;33m)\u001b[0m\u001b[1;33m\u001b[0m\u001b[1;33m\u001b[0m\u001b[0m\n\u001b[0m\u001b[0;32m      2\u001b[0m \u001b[1;31m# for i in range(len(S1)-2):\u001b[0m\u001b[1;33m\u001b[0m\u001b[1;33m\u001b[0m\u001b[1;33m\u001b[0m\u001b[0m\n\u001b[0;32m      3\u001b[0m \u001b[1;31m#     print(get_probability_fragments_from_same_fragment(S1[i:i+2], ST_EN[i:i+2], 3, 0.02)\u001b[0m\u001b[1;33m\u001b[0m\u001b[1;33m\u001b[0m\u001b[1;33m\u001b[0m\u001b[0m\n",
            "\u001b[1;31mNameError\u001b[0m: name 'get_probability_fragments_from_same_fragment' is not defined"
          ]
        }
      ],
      "source": [
        "print(get_probability_fragments_from_same_fragment(S1[2:2+2], ST_EN[2:2+2], 3, 0.02))\n",
        "# for i in range(len(S1)-2):\n",
        "#     print(get_probability_fragments_from_same_fragment(S1[i:i+2], ST_EN[i:i+2], 3, 0.02)"
      ]
    },
    {
      "cell_type": "code",
      "execution_count": null,
      "id": "ed19296a-8e65-4197-b10f-ce21cf87dfa4",
      "metadata": {
        "id": "ed19296a-8e65-4197-b10f-ce21cf87dfa4"
      },
      "outputs": [],
      "source": []
    },
    {
      "cell_type": "code",
      "execution_count": null,
      "id": "dc764548-9f54-46ed-b2f0-e333c8a240d6",
      "metadata": {
        "colab": {
          "base_uri": "https://localhost:8080/"
        },
        "id": "dc764548-9f54-46ed-b2f0-e333c8a240d6",
        "outputId": "9e22bac3-3350-4d7e-fd2b-89c97a4c14f1"
      },
      "outputs": [],
      "source": []
    },
    {
      "cell_type": "code",
      "execution_count": null,
      "id": "2295ce0f-a634-4998-ac34-096ef7ec2e9b",
      "metadata": {
        "colab": {
          "base_uri": "https://localhost:8080/"
        },
        "id": "2295ce0f-a634-4998-ac34-096ef7ec2e9b",
        "outputId": "eea39f8c-c30d-4d6b-ddb9-cbbc3e73d820"
      },
      "outputs": [],
      "source": []
    },
    {
      "cell_type": "code",
      "execution_count": 8,
      "id": "LBCFBeahA9KB",
      "metadata": {
        "id": "LBCFBeahA9KB"
      },
      "outputs": [],
      "source": []
    },
    {
      "cell_type": "code",
      "execution_count": null,
      "id": "vcxYpmTZWEXK",
      "metadata": {
        "id": "vcxYpmTZWEXK"
      },
      "outputs": [],
      "source": []
    },
    {
      "cell_type": "code",
      "execution_count": null,
      "id": "xGNisT-_WJaJ",
      "metadata": {
        "id": "xGNisT-_WJaJ"
      },
      "outputs": [],
      "source": []
    },
    {
      "cell_type": "markdown",
      "id": "6lb_vsWDwELC",
      "metadata": {
        "id": "6lb_vsWDwELC"
      },
      "source": [
        "Notes: We want to incorporate sequencing errors in the fragments f1 and f2 and get the confidence whether f1 and f2 belong from the same haplotype. Use some probablity to guess whether f1 and f2 belong to the same haplotype. \n",
        "\n",
        "Now once we have a probablity that f1 and f2 belong to the same haplotype, we want to check whether a variant is a false variant.\n",
        "\n",
        "What is a false variant ? \n",
        "False variant is a location where the alleles are homozygous but the sequencing \n",
        "assumes / wrongly interprets the site as heterozygous. \n",
        "Hitherto, in the fragments (for these false variants) there would be a substantial amount of fragments where this site has the same allele say 0 for \n",
        "both fragments coming from both H1 and H2 (as it is not really a variant hence same allele is observed irrespective sample from H1 or H2 (0, 0) in the given position).\n",
        "\n",
        "However for sequencing errors the errors are randomly distributed among different variants for different fragments.\n",
        "\n",
        "Problem statement, we want to identify these false variant locations for the \n",
        "sequenced data, as these become difficult to handle while performing Hap assembly.\n",
        "\n",
        "When we have a good coverage for a particular false variant, \n",
        "if we have fragment f1 which belongs to H1 and a fragment f2 which belongs to H2, the value for the variants are complement of each other except for the false variant. \n",
        "\n",
        "Now we dont know whether the fragment belongs to either H1 or H2, "
      ]
    }
  ],
  "metadata": {
    "colab": {
      "name": "HAP_simulation.ipynb",
      "provenance": []
    },
    "kernelspec": {
      "display_name": "Python 3",
      "language": "python",
      "name": "python3"
    },
    "language_info": {
      "codemirror_mode": {
        "name": "ipython",
        "version": 3
      },
      "file_extension": ".py",
      "mimetype": "text/x-python",
      "name": "python",
      "nbconvert_exporter": "python",
      "pygments_lexer": "ipython3",
      "version": "3.8.8"
    }
  },
  "nbformat": 4,
  "nbformat_minor": 5
}

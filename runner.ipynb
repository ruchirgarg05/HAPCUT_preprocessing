{
  "cells": [
    {
      "cell_type": "code",
      "execution_count": 4,
      "id": "b6c2bbf3-dd50-4942-b6ac-2c6c2c851013",
      "metadata": {
        "id": "b6c2bbf3-dd50-4942-b6ac-2c6c2c851013"
      },
      "outputs": [
        {
          "name": "stdout",
          "output_type": "stream",
          "text": [
            "False variant locations are [26, 29]\n",
            "reference haplotype values for the variants are:\n",
            "    0  1  2  3  4  5  6  7  8  9  10  11  12  13  14  15  16  17  18  19  20  21  22  23  24  25  26  27  28  29\n",
            "H1  1  0  1  1  1  0  0  1  1  0   1   1   0   0   1   0   1   0   1   0   1   1   1   0   1   1   0   1   1   1\n",
            "H2  0  1  0  0  0  1  1  0  0  1   0   0   1   1   0   1   0   1   0   1   0   0   0   1   0   0   0   0   0   1\n"
          ]
        }
      ],
      "source": [
        "from sim_util import *\n",
        "from preprocess_utils import *\n",
        "from utils import *\n",
        "\n",
        "from copy import deepcopy\n",
        "\n",
        "ref_length = int(30)\n",
        "H12, false_variant_locs = create_reference_hap(ref_length=ref_length, \n",
        "                                               false_variance = 0.1)\n",
        "ref_H = deepcopy(H12)\n",
        "samples, st_en = generate_fragments(ref_H,\n",
        "                                    read_length=5, \n",
        "                                    std_read_length=1, \n",
        "                                    coverage=6,)\n",
        "\n",
        "\n",
        "hap_samples = deepcopy(samples)\n",
        "start_end = deepcopy(st_en)\n",
        "hap_samples = generate_miscall_error_rates_for(hap_samples)\n",
        "S1, ST_EN = cluster_fragments(hap_samples, st_en)"
      ]
    },
    {
      "cell_type": "code",
      "execution_count": 75,
      "id": "bfdc4128-7b87-4312-9985-43ba1697a9ba",
      "metadata": {
        "id": "bfdc4128-7b87-4312-9985-43ba1697a9ba"
      },
      "outputs": [
        {
          "ename": "AssertionError",
          "evalue": "",
          "output_type": "error",
          "traceback": [
            "\u001b[0;31m---------------------------------------------------------------------------\u001b[0m",
            "\u001b[0;31mAssertionError\u001b[0m                            Traceback (most recent call last)",
            "\u001b[0;32m/tmp/ipykernel_6342/3850630895.py\u001b[0m in \u001b[0;36m<module>\u001b[0;34m\u001b[0m\n\u001b[0;32m----> 1\u001b[0;31m er_hap_samples, sts_ens, frag_file_contents = simulate_haplotypes_errors(hap_samples = S1, \n\u001b[0m\u001b[1;32m      2\u001b[0m                                                                          \u001b[0mreads_st_en\u001b[0m \u001b[0;34m=\u001b[0m \u001b[0mST_EN\u001b[0m\u001b[0;34m,\u001b[0m\u001b[0;34m\u001b[0m\u001b[0;34m\u001b[0m\u001b[0m\n\u001b[1;32m      3\u001b[0m                                                                          false_variant_locs = false_variant_locs)\n",
            "\u001b[0;32m~/content/HAPCUT_preprocessing/sim_util.py\u001b[0m in \u001b[0;36msimulate_haplotypes_errors\u001b[0;34m(hap_samples, reads_st_en, false_variant_locs, switch_error_rate, miscall_error_rate, missing_error_rate)\u001b[0m\n\u001b[1;32m    321\u001b[0m     \u001b[0;32mfor\u001b[0m \u001b[0msample\u001b[0m\u001b[0;34m,\u001b[0m \u001b[0mx\u001b[0m \u001b[0;32min\u001b[0m \u001b[0mzip\u001b[0m\u001b[0;34m(\u001b[0m\u001b[0mhap_samples\u001b[0m\u001b[0;34m,\u001b[0m \u001b[0mreads_st_en\u001b[0m\u001b[0;34m)\u001b[0m\u001b[0;34m:\u001b[0m\u001b[0;34m\u001b[0m\u001b[0;34m\u001b[0m\u001b[0m\n\u001b[1;32m    322\u001b[0m       \u001b[0;31m#import pdb;pdb.set_trace()\u001b[0m\u001b[0;34m\u001b[0m\u001b[0;34m\u001b[0m\u001b[0m\n\u001b[0;32m--> 323\u001b[0;31m       \u001b[0;32massert\u001b[0m \u001b[0mlen\u001b[0m\u001b[0;34m(\u001b[0m\u001b[0msample\u001b[0m\u001b[0;34m)\u001b[0m \u001b[0;34m==\u001b[0m \u001b[0mabs\u001b[0m\u001b[0;34m(\u001b[0m\u001b[0mx\u001b[0m\u001b[0;34m[\u001b[0m\u001b[0;36m1\u001b[0m\u001b[0;34m]\u001b[0m \u001b[0;34m-\u001b[0m \u001b[0mx\u001b[0m\u001b[0;34m[\u001b[0m\u001b[0;36m0\u001b[0m\u001b[0;34m]\u001b[0m\u001b[0;34m)\u001b[0m\u001b[0;34m\u001b[0m\u001b[0;34m\u001b[0m\u001b[0m\n\u001b[0m\u001b[1;32m    324\u001b[0m       \u001b[0mswitch_error\u001b[0m \u001b[0;34m=\u001b[0m \u001b[0mnp\u001b[0m\u001b[0;34m.\u001b[0m\u001b[0mless\u001b[0m\u001b[0;34m(\u001b[0m \u001b[0mnp\u001b[0m\u001b[0;34m.\u001b[0m\u001b[0mrandom\u001b[0m\u001b[0;34m.\u001b[0m\u001b[0muniform\u001b[0m\u001b[0;34m(\u001b[0m\u001b[0;36m0\u001b[0m\u001b[0;34m,\u001b[0m \u001b[0;36m1\u001b[0m\u001b[0;34m,\u001b[0m \u001b[0msize\u001b[0m\u001b[0;34m=\u001b[0m\u001b[0mlen\u001b[0m\u001b[0;34m(\u001b[0m\u001b[0msample\u001b[0m\u001b[0;34m)\u001b[0m\u001b[0;34m)\u001b[0m \u001b[0;34m,\u001b[0m \u001b[0mswitch_error_rate\u001b[0m\u001b[0;34m)\u001b[0m\u001b[0;34m\u001b[0m\u001b[0;34m\u001b[0m\u001b[0m\n\u001b[1;32m    325\u001b[0m       \u001b[0mmiscall_error\u001b[0m \u001b[0;34m=\u001b[0m \u001b[0mnp\u001b[0m\u001b[0;34m.\u001b[0m\u001b[0mless\u001b[0m\u001b[0;34m(\u001b[0m\u001b[0mnp\u001b[0m\u001b[0;34m.\u001b[0m\u001b[0mrandom\u001b[0m\u001b[0;34m.\u001b[0m\u001b[0muniform\u001b[0m\u001b[0;34m(\u001b[0m\u001b[0;36m0\u001b[0m\u001b[0;34m,\u001b[0m \u001b[0;36m1\u001b[0m\u001b[0;34m,\u001b[0m \u001b[0msize\u001b[0m\u001b[0;34m=\u001b[0m\u001b[0mlen\u001b[0m\u001b[0;34m(\u001b[0m\u001b[0msample\u001b[0m\u001b[0;34m)\u001b[0m\u001b[0;34m)\u001b[0m \u001b[0;34m,\u001b[0m \u001b[0mmiscall_error_rate\u001b[0m\u001b[0;34m)\u001b[0m\u001b[0;34m\u001b[0m\u001b[0;34m\u001b[0m\u001b[0m\n",
            "\u001b[0;31mAssertionError\u001b[0m: "
          ]
        }
      ],
      "source": [
        "er_hap_samples, sts_ens, frag_file_contents = simulate_haplotypes_errors(hap_samples = S1, \n",
        "                                                                         reads_st_en = ST_EN,\n",
        "                                                                         false_variant_locs = false_variant_locs)"
      ]
    },
    {
      "cell_type": "code",
      "execution_count": 5,
      "id": "3f3a4299",
      "metadata": {},
      "outputs": [
        {
          "name": "stdout",
          "output_type": "stream",
          "text": [
            "[False  True False False False  True  True False False  True False False\n",
            "  True  True False  True False  True False  True False False False  True\n",
            " False False False False False  True]\n"
          ]
        }
      ],
      "source": [
        "print(ref_H[1])"
      ]
    },
    {
      "cell_type": "code",
      "execution_count": 6,
      "id": "d6c679ce-eec2-4df5-aaa0-24e957877c1c",
      "metadata": {
        "colab": {
          "base_uri": "https://localhost:8080/"
        },
        "id": "d6c679ce-eec2-4df5-aaa0-24e957877c1c",
        "outputId": "92171242-d17e-487d-8260-bcceb95757dd"
      },
      "outputs": [
        {
          "name": "stdout",
          "output_type": "stream",
          "text": [
            "> \u001b[0;32m/home/ruchirgarg5/content/HAPCUT_preprocessing/sim_util.py\u001b[0m(209)\u001b[0;36mgenerate_matrix_for_visualization\u001b[0;34m()\u001b[0m\n",
            "\u001b[0;32m    208 \u001b[0;31m    \u001b[0;32mimport\u001b[0m \u001b[0mipdb\u001b[0m\u001b[0;34m;\u001b[0m\u001b[0mipdb\u001b[0m\u001b[0;34m.\u001b[0m\u001b[0mset_trace\u001b[0m\u001b[0;34m(\u001b[0m\u001b[0;34m)\u001b[0m\u001b[0;34m\u001b[0m\u001b[0;34m\u001b[0m\u001b[0m\n",
            "\u001b[0m\u001b[0;32m--> 209 \u001b[0;31m    \u001b[0mreference_length\u001b[0m \u001b[0;34m=\u001b[0m \u001b[0mlen\u001b[0m\u001b[0;34m(\u001b[0m\u001b[0mref_H\u001b[0m\u001b[0;34m[\u001b[0m\u001b[0;36m0\u001b[0m\u001b[0;34m]\u001b[0m\u001b[0;34m)\u001b[0m\u001b[0;34m\u001b[0m\u001b[0;34m\u001b[0m\u001b[0m\n",
            "\u001b[0m\u001b[0;32m    210 \u001b[0;31m    \u001b[0mprint_false_variants_and_ref_H\u001b[0m\u001b[0;34m(\u001b[0m\u001b[0mref_H\u001b[0m\u001b[0;34m,\u001b[0m \u001b[0mfalse_variant_locs\u001b[0m\u001b[0;34m)\u001b[0m\u001b[0;34m\u001b[0m\u001b[0;34m\u001b[0m\u001b[0m\n",
            "\u001b[0m\n",
            "False variant locations are [26, 29]\n",
            "reference haplotype values for the variants are:\n",
            "    0  1  2  3  4  5  6  7  8  9  10  11  12  13  14  15  16  17  18  19  20  21  22  23  24  25  26  27  28  29\n",
            "H1  1  0  1  1  1  0  0  1  1  0   1   1   0   0   1   0   1   0   1   0   1   1   1   0   1   1   0   1   1   1\n",
            "H2  0  1  0  0  0  1  1  0  0  1   0   0   1   1   0   1   0   1   0   1   0   0   0   1   0   0   0   0   0   1\n",
            "      0  1  2  3  4  5  6  7  8  9 10 11 12 13 14 15 16 17 18 19 20 21 22 23 24 25 26 27 28 29\n",
            "f_0   0  1  0  0  -  -  -  -  -  -  -  -  -  -  -  -  -  -  -  -  -  -  -  -  -  -  -  -  -  -\n",
            "f_1   0  1  0  0  -  -  -  -  -  -  -  -  -  -  -  -  -  -  -  -  -  -  -  -  -  -  -  -  -  -\n",
            "f_2   -  1  0  0  0  -  -  -  -  -  -  -  -  -  -  -  -  -  -  -  -  -  -  -  -  -  -  -  -  -\n",
            "f_3   -  -  1  1  1  0  0  -  -  -  -  -  -  -  -  -  -  -  -  -  -  -  -  -  -  -  -  -  -  -\n",
            "f_4   -  -  1  1  1  0  -  -  -  -  -  -  -  -  -  -  -  -  -  -  -  -  -  -  -  -  -  -  -  -\n",
            "f_5   -  -  1  1  1  -  -  -  -  -  -  -  -  -  -  -  -  -  -  -  -  -  -  -  -  -  -  -  -  -\n",
            "f_6   -  -  -  0  0  1  1  -  -  -  -  -  -  -  -  -  -  -  -  -  -  -  -  -  -  -  -  -  -  -\n",
            "f_7   -  -  -  1  1  -  -  -  -  -  -  -  -  -  -  -  -  -  -  -  -  -  -  -  -  -  -  -  -  -\n",
            "f_8   -  -  -  -  0  1  1  0  0  1  -  -  -  -  -  -  -  -  -  -  -  -  -  -  -  -  -  -  -  -\n",
            "f_9   -  -  -  -  1  0  0  1  -  -  -  -  -  -  -  -  -  -  -  -  -  -  -  -  -  -  -  -  -  -\n",
            "f_10  -  -  -  -  1  0  0  -  -  -  -  -  -  -  -  -  -  -  -  -  -  -  -  -  -  -  -  -  -  -\n",
            "f_11  -  -  -  -  -  -  0  1  1  0  1  1  -  -  -  -  -  -  -  -  -  -  -  -  -  -  -  -  -  -\n",
            "f_12  -  -  -  -  -  -  -  -  1  0  1  1  -  -  -  -  -  -  -  -  -  -  -  -  -  -  -  -  -  -\n",
            "f_13  -  -  -  -  -  -  -  -  1  0  -  -  -  -  -  -  -  -  -  -  -  -  -  -  -  -  -  -  -  -\n",
            "f_14  -  -  -  -  -  -  -  -  -  -  -  1  0  0  1  -  -  -  -  -  -  -  -  -  -  -  -  -  -  -\n",
            "f_15  -  -  -  -  -  -  -  -  -  -  -  1  0  0  -  -  -  -  -  -  -  -  -  -  -  -  -  -  -  -\n",
            "f_16  -  -  -  -  -  -  -  -  -  -  -  -  0  0  1  -  -  -  -  -  -  -  -  -  -  -  -  -  -  -\n",
            "f_17  -  -  -  -  -  -  -  -  -  -  -  -  0  0  1  -  -  -  -  -  -  -  -  -  -  -  -  -  -  -\n",
            "f_18  -  -  -  -  -  -  -  -  -  -  -  -  -  0  1  0  -  -  -  -  -  -  -  -  -  -  -  -  -  -\n",
            "f_19  -  -  -  -  -  -  -  -  -  -  -  -  -  -  1  0  1  0  1  -  -  -  -  -  -  -  -  -  -  -\n",
            "f_20  -  -  -  -  -  -  -  -  -  -  -  -  -  -  0  1  0  1  -  -  -  -  -  -  -  -  -  -  -  -\n",
            "f_21  -  -  -  -  -  -  -  -  -  -  -  -  -  -  0  1  0  -  -  -  -  -  -  -  -  -  -  -  -  -\n",
            "f_22  -  -  -  -  -  -  -  -  -  -  -  -  -  -  -  0  1  0  1  0  -  -  -  -  -  -  -  -  -  -\n",
            "f_23  -  -  -  -  -  -  -  -  -  -  -  -  -  -  -  1  0  1  0  1  -  -  -  -  -  -  -  -  -  -\n",
            "f_24  -  -  -  -  -  -  -  -  -  -  -  -  -  -  -  0  1  0  1  0  -  -  -  -  -  -  -  -  -  -\n",
            "f_25  -  -  -  -  -  -  -  -  -  -  -  -  -  -  -  -  1  0  1  0  1  -  -  -  -  -  -  -  -  -\n",
            "f_26  -  -  -  -  -  -  -  -  -  -  -  -  -  -  -  -  0  1  0  -  -  -  -  -  -  -  -  -  -  -\n",
            "f_27  -  -  -  -  -  -  -  -  -  -  -  -  -  -  -  -  -  0  1  0  1  1  1  -  -  -  -  -  -  -\n",
            "f_28  -  -  -  -  -  -  -  -  -  -  -  -  -  -  -  -  -  -  -  -  1  1  1  0  1  1  -  -  -  -\n",
            "f_29  -  -  -  -  -  -  -  -  -  -  -  -  -  -  -  -  -  -  -  -  0  0  0  1  0  -  -  -  -  -\n",
            "f_30  -  -  -  -  -  -  -  -  -  -  -  -  -  -  -  -  -  -  -  -  0  0  0  -  -  -  -  -  -  -\n",
            "f_31  -  -  -  -  -  -  -  -  -  -  -  -  -  -  -  -  -  -  -  -  -  -  -  0  1  1  0  1  -  -\n",
            "f_32  -  -  -  -  -  -  -  -  -  -  -  -  -  -  -  -  -  -  -  -  -  -  -  0  1  1  0  1  -  -\n",
            "f_33  -  -  -  -  -  -  -  -  -  -  -  -  -  -  -  -  -  -  -  -  -  -  -  1  0  0  -  -  -  -\n",
            "f_34  -  -  -  -  -  -  -  -  -  -  -  -  -  -  -  -  -  -  -  -  -  -  -  -  1  1  0  1  1  -\n",
            "f_35  -  -  -  -  -  -  -  -  -  -  -  -  -  -  -  -  -  -  -  -  -  -  -  -  1  1  0  -  -  -\n"
          ]
        }
      ],
      "source": [
        "generate_matrix_for_visualization(ref_H, false_variant_locs, # er_hap_samples, sts_ens)\n",
        "                                  S1, ST_EN)\n"
      ]
    },
    {
      "cell_type": "code",
      "execution_count": 5,
      "id": "a55e2118",
      "metadata": {},
      "outputs": [
        {
          "name": "stdout",
          "output_type": "stream",
          "text": [
            "> \u001b[1;32mc:\\users\\91821\\documents\\github\\hapcut_preprocessing\\utils.py\u001b[0m(344)\u001b[0;36mremove_false_variants\u001b[1;34m()\u001b[0m\n",
            "\u001b[1;32m    342 \u001b[1;33m    \u001b[1;32mimport\u001b[0m \u001b[0mpdb\u001b[0m\u001b[1;33m;\u001b[0m\u001b[0mpdb\u001b[0m\u001b[1;33m.\u001b[0m\u001b[0mset_trace\u001b[0m\u001b[1;33m(\u001b[0m\u001b[1;33m)\u001b[0m\u001b[1;33m\u001b[0m\u001b[1;33m\u001b[0m\u001b[0m\n",
            "\u001b[0m\u001b[1;32m    343 \u001b[1;33m    \u001b[1;32mwhile\u001b[0m \u001b[1;32mTrue\u001b[0m\u001b[1;33m:\u001b[0m\u001b[1;33m\u001b[0m\u001b[1;33m\u001b[0m\u001b[0m\n",
            "\u001b[0m\u001b[1;32m--> 344 \u001b[1;33m        \u001b[0mlikelihood_false_variants\u001b[0m \u001b[1;33m=\u001b[0m \u001b[1;33m[\u001b[0m\u001b[1;33m]\u001b[0m\u001b[1;33m\u001b[0m\u001b[1;33m\u001b[0m\u001b[0m\n",
            "\u001b[0m\u001b[1;32m    345 \u001b[1;33m        \u001b[1;32mfor\u001b[0m \u001b[0mi\u001b[0m \u001b[1;32min\u001b[0m \u001b[0mrange\u001b[0m\u001b[1;33m(\u001b[0m\u001b[0mlen\u001b[0m\u001b[1;33m(\u001b[0m\u001b[0mref_H\u001b[0m\u001b[1;33m[\u001b[0m\u001b[1;36m0\u001b[0m\u001b[1;33m]\u001b[0m\u001b[1;33m)\u001b[0m\u001b[1;33m)\u001b[0m\u001b[1;33m:\u001b[0m\u001b[1;33m\u001b[0m\u001b[1;33m\u001b[0m\u001b[0m\n",
            "\u001b[0m\u001b[1;32m    346 \u001b[1;33m            \u001b[0mlikelihood_false_variants\u001b[0m\u001b[1;33m.\u001b[0m\u001b[0mappend\u001b[0m\u001b[1;33m(\u001b[0m\u001b[1;33m(\u001b[0m\u001b[0mcalculate_likelihood_of_heterozygous_site\u001b[0m\u001b[1;33m(\u001b[0m\u001b[0mreads\u001b[0m\u001b[1;33m,\u001b[0m \u001b[0mst_en\u001b[0m\u001b[1;33m,\u001b[0m \u001b[0mi\u001b[0m\u001b[1;33m,\u001b[0m \u001b[0mqual\u001b[0m\u001b[1;33m,\u001b[0m \u001b[0mref_H\u001b[0m\u001b[1;33m)\u001b[0m\u001b[1;33m,\u001b[0m \u001b[0mi\u001b[0m\u001b[1;33m)\u001b[0m\u001b[1;33m)\u001b[0m\u001b[1;33m\u001b[0m\u001b[1;33m\u001b[0m\u001b[0m\n",
            "\u001b[0m\n",
            "> \u001b[1;32mc:\\users\\91821\\documents\\github\\hapcut_preprocessing\\utils.py\u001b[0m(345)\u001b[0;36mremove_false_variants\u001b[1;34m()\u001b[0m\n",
            "\u001b[1;32m    343 \u001b[1;33m    \u001b[1;32mwhile\u001b[0m \u001b[1;32mTrue\u001b[0m\u001b[1;33m:\u001b[0m\u001b[1;33m\u001b[0m\u001b[1;33m\u001b[0m\u001b[0m\n",
            "\u001b[0m\u001b[1;32m    344 \u001b[1;33m        \u001b[0mlikelihood_false_variants\u001b[0m \u001b[1;33m=\u001b[0m \u001b[1;33m[\u001b[0m\u001b[1;33m]\u001b[0m\u001b[1;33m\u001b[0m\u001b[1;33m\u001b[0m\u001b[0m\n",
            "\u001b[0m\u001b[1;32m--> 345 \u001b[1;33m        \u001b[1;32mfor\u001b[0m \u001b[0mi\u001b[0m \u001b[1;32min\u001b[0m \u001b[0mrange\u001b[0m\u001b[1;33m(\u001b[0m\u001b[0mlen\u001b[0m\u001b[1;33m(\u001b[0m\u001b[0mref_H\u001b[0m\u001b[1;33m[\u001b[0m\u001b[1;36m0\u001b[0m\u001b[1;33m]\u001b[0m\u001b[1;33m)\u001b[0m\u001b[1;33m)\u001b[0m\u001b[1;33m:\u001b[0m\u001b[1;33m\u001b[0m\u001b[1;33m\u001b[0m\u001b[0m\n",
            "\u001b[0m\u001b[1;32m    346 \u001b[1;33m            \u001b[0mlikelihood_false_variants\u001b[0m\u001b[1;33m.\u001b[0m\u001b[0mappend\u001b[0m\u001b[1;33m(\u001b[0m\u001b[1;33m(\u001b[0m\u001b[0mcalculate_likelihood_of_heterozygous_site\u001b[0m\u001b[1;33m(\u001b[0m\u001b[0mreads\u001b[0m\u001b[1;33m,\u001b[0m \u001b[0mst_en\u001b[0m\u001b[1;33m,\u001b[0m \u001b[0mi\u001b[0m\u001b[1;33m,\u001b[0m \u001b[0mqual\u001b[0m\u001b[1;33m,\u001b[0m \u001b[0mref_H\u001b[0m\u001b[1;33m)\u001b[0m\u001b[1;33m,\u001b[0m \u001b[0mi\u001b[0m\u001b[1;33m)\u001b[0m\u001b[1;33m)\u001b[0m\u001b[1;33m\u001b[0m\u001b[1;33m\u001b[0m\u001b[0m\n",
            "\u001b[0m\u001b[1;32m    347 \u001b[1;33m        \u001b[0mpdb\u001b[0m\u001b[1;33m.\u001b[0m\u001b[0mset_trace\u001b[0m\u001b[1;33m(\u001b[0m\u001b[1;33m)\u001b[0m\u001b[1;33m\u001b[0m\u001b[1;33m\u001b[0m\u001b[0m\n",
            "\u001b[0m\n",
            "> \u001b[1;32mc:\\users\\91821\\documents\\github\\hapcut_preprocessing\\utils.py\u001b[0m(348)\u001b[0;36mremove_false_variants\u001b[1;34m()\u001b[0m\n",
            "\u001b[1;32m    346 \u001b[1;33m            \u001b[0mlikelihood_false_variants\u001b[0m\u001b[1;33m.\u001b[0m\u001b[0mappend\u001b[0m\u001b[1;33m(\u001b[0m\u001b[1;33m(\u001b[0m\u001b[0mcalculate_likelihood_of_heterozygous_site\u001b[0m\u001b[1;33m(\u001b[0m\u001b[0mreads\u001b[0m\u001b[1;33m,\u001b[0m \u001b[0mst_en\u001b[0m\u001b[1;33m,\u001b[0m \u001b[0mi\u001b[0m\u001b[1;33m,\u001b[0m \u001b[0mqual\u001b[0m\u001b[1;33m,\u001b[0m \u001b[0mref_H\u001b[0m\u001b[1;33m)\u001b[0m\u001b[1;33m,\u001b[0m \u001b[0mi\u001b[0m\u001b[1;33m)\u001b[0m\u001b[1;33m)\u001b[0m\u001b[1;33m\u001b[0m\u001b[1;33m\u001b[0m\u001b[0m\n",
            "\u001b[0m\u001b[1;32m    347 \u001b[1;33m        \u001b[0mpdb\u001b[0m\u001b[1;33m.\u001b[0m\u001b[0mset_trace\u001b[0m\u001b[1;33m(\u001b[0m\u001b[1;33m)\u001b[0m\u001b[1;33m\u001b[0m\u001b[1;33m\u001b[0m\u001b[0m\n",
            "\u001b[0m\u001b[1;32m--> 348 \u001b[1;33m        \u001b[0mlikelihood_false_variants\u001b[0m \u001b[1;33m=\u001b[0m \u001b[0msorted\u001b[0m\u001b[1;33m(\u001b[0m\u001b[0mlikelihood_false_variants\u001b[0m\u001b[1;33m)\u001b[0m\u001b[1;33m\u001b[0m\u001b[1;33m\u001b[0m\u001b[0m\n",
            "\u001b[0m\u001b[1;32m    349 \u001b[1;33m        \u001b[0mfalse_variant_exists\u001b[0m \u001b[1;33m=\u001b[0m \u001b[1;32mFalse\u001b[0m\u001b[1;33m\u001b[0m\u001b[1;33m\u001b[0m\u001b[0m\n",
            "\u001b[0m\u001b[1;32m    350 \u001b[1;33m        \u001b[0mfalse_variant_locs\u001b[0m \u001b[1;33m=\u001b[0m \u001b[1;33m[\u001b[0m\u001b[1;33m]\u001b[0m\u001b[1;33m\u001b[0m\u001b[1;33m\u001b[0m\u001b[0m\n",
            "\u001b[0m\n",
            "> \u001b[1;32mc:\\users\\91821\\documents\\github\\hapcut_preprocessing\\utils.py\u001b[0m(349)\u001b[0;36mremove_false_variants\u001b[1;34m()\u001b[0m\n",
            "\u001b[1;32m    347 \u001b[1;33m        \u001b[0mpdb\u001b[0m\u001b[1;33m.\u001b[0m\u001b[0mset_trace\u001b[0m\u001b[1;33m(\u001b[0m\u001b[1;33m)\u001b[0m\u001b[1;33m\u001b[0m\u001b[1;33m\u001b[0m\u001b[0m\n",
            "\u001b[0m\u001b[1;32m    348 \u001b[1;33m        \u001b[0mlikelihood_false_variants\u001b[0m \u001b[1;33m=\u001b[0m \u001b[0msorted\u001b[0m\u001b[1;33m(\u001b[0m\u001b[0mlikelihood_false_variants\u001b[0m\u001b[1;33m)\u001b[0m\u001b[1;33m\u001b[0m\u001b[1;33m\u001b[0m\u001b[0m\n",
            "\u001b[0m\u001b[1;32m--> 349 \u001b[1;33m        \u001b[0mfalse_variant_exists\u001b[0m \u001b[1;33m=\u001b[0m \u001b[1;32mFalse\u001b[0m\u001b[1;33m\u001b[0m\u001b[1;33m\u001b[0m\u001b[0m\n",
            "\u001b[0m\u001b[1;32m    350 \u001b[1;33m        \u001b[0mfalse_variant_locs\u001b[0m \u001b[1;33m=\u001b[0m \u001b[1;33m[\u001b[0m\u001b[1;33m]\u001b[0m\u001b[1;33m\u001b[0m\u001b[1;33m\u001b[0m\u001b[0m\n",
            "\u001b[0m\u001b[1;32m    351 \u001b[1;33m        \u001b[1;32mfor\u001b[0m \u001b[0mlikelihood\u001b[0m\u001b[1;33m,\u001b[0m \u001b[0midx\u001b[0m \u001b[1;32min\u001b[0m \u001b[0mlikelihood_false_variants\u001b[0m\u001b[1;33m:\u001b[0m\u001b[1;33m\u001b[0m\u001b[1;33m\u001b[0m\u001b[0m\n",
            "\u001b[0m\n",
            "*** NameError: name 'likelihood_false_varaints' is not defined\n",
            "[(1.014752347085214e-18, 12), (3.098854274547719e-09, 9), (1.5782885290578778e-08, 10), (1.566520867993815e-07, 13), (1.3232748627857452e-06, 3), (1.3829645220053962e-06, 8), (1.426897054044643e-06, 7), (1.7452907979455842e-06, 24), (1.6233680177989915e-05, 22), (5.2208471387961304e-05, 21), (0.00015717284784767704, 20), (0.00017430826029385778, 25), (0.0001855884229992198, 23), (0.0005556851777076708, 4), (0.0005647935999999998, 27), (0.0007898535073228152, 16), (0.0008745649899927757, 15), (0.0008931411367640751, 14), (0.0016777105319692126, 11), (0.00788132428326338, 17), (0.008904541862504027, 5), (0.009641955471052031, 6), (0.013295241343999998, 1), (0.08700056203910263, 18), (0.09058937920947747, 26), (0.21739675865599994, 2), (0.46138399999999985, 0), (0.49999999999999994, 19), (1.0, 28), (1.0, 29)]\n"
          ]
        },
        {
          "ename": "BdbQuit",
          "evalue": "",
          "output_type": "error",
          "traceback": [
            "\u001b[1;31m---------------------------------------------------------------------------\u001b[0m",
            "\u001b[1;31mBdbQuit\u001b[0m                                   Traceback (most recent call last)",
            "\u001b[1;32m<ipython-input-5-2bdd6edcaaca>\u001b[0m in \u001b[0;36m<module>\u001b[1;34m\u001b[0m\n\u001b[1;32m----> 1\u001b[1;33m \u001b[0mremove_false_variants\u001b[0m\u001b[1;33m(\u001b[0m\u001b[0mS1\u001b[0m\u001b[1;33m,\u001b[0m \u001b[0mST_EN\u001b[0m\u001b[1;33m,\u001b[0m \u001b[1;36m0.02\u001b[0m\u001b[1;33m,\u001b[0m \u001b[1;36m0.0003\u001b[0m\u001b[1;33m,\u001b[0m \u001b[0mref_H\u001b[0m\u001b[1;33m)\u001b[0m\u001b[1;33m\u001b[0m\u001b[1;33m\u001b[0m\u001b[0m\n\u001b[0m",
            "\u001b[1;32mc:\\Users\\91821\\Documents\\GitHub\\HAPCUT_preprocessing\\utils.py\u001b[0m in \u001b[0;36mremove_false_variants\u001b[1;34m(reads, st_en, qual, threshold, ref_H)\u001b[0m\n\u001b[0;32m    347\u001b[0m         \u001b[0mpdb\u001b[0m\u001b[1;33m.\u001b[0m\u001b[0mset_trace\u001b[0m\u001b[1;33m(\u001b[0m\u001b[1;33m)\u001b[0m\u001b[1;33m\u001b[0m\u001b[1;33m\u001b[0m\u001b[0m\n\u001b[0;32m    348\u001b[0m         \u001b[0mlikelihood_false_variants\u001b[0m \u001b[1;33m=\u001b[0m \u001b[0msorted\u001b[0m\u001b[1;33m(\u001b[0m\u001b[0mlikelihood_false_variants\u001b[0m\u001b[1;33m)\u001b[0m\u001b[1;33m\u001b[0m\u001b[1;33m\u001b[0m\u001b[0m\n\u001b[1;32m--> 349\u001b[1;33m         \u001b[0mfalse_variant_exists\u001b[0m \u001b[1;33m=\u001b[0m \u001b[1;32mFalse\u001b[0m\u001b[1;33m\u001b[0m\u001b[1;33m\u001b[0m\u001b[0m\n\u001b[0m\u001b[0;32m    350\u001b[0m         \u001b[0mfalse_variant_locs\u001b[0m \u001b[1;33m=\u001b[0m \u001b[1;33m[\u001b[0m\u001b[1;33m]\u001b[0m\u001b[1;33m\u001b[0m\u001b[1;33m\u001b[0m\u001b[0m\n\u001b[0;32m    351\u001b[0m         \u001b[1;32mfor\u001b[0m \u001b[0mlikelihood\u001b[0m\u001b[1;33m,\u001b[0m \u001b[0midx\u001b[0m \u001b[1;32min\u001b[0m \u001b[0mlikelihood_false_variants\u001b[0m\u001b[1;33m:\u001b[0m\u001b[1;33m\u001b[0m\u001b[1;33m\u001b[0m\u001b[0m\n",
            "\u001b[1;32mc:\\Users\\91821\\Documents\\GitHub\\HAPCUT_preprocessing\\utils.py\u001b[0m in \u001b[0;36mremove_false_variants\u001b[1;34m(reads, st_en, qual, threshold, ref_H)\u001b[0m\n\u001b[0;32m    347\u001b[0m         \u001b[0mpdb\u001b[0m\u001b[1;33m.\u001b[0m\u001b[0mset_trace\u001b[0m\u001b[1;33m(\u001b[0m\u001b[1;33m)\u001b[0m\u001b[1;33m\u001b[0m\u001b[1;33m\u001b[0m\u001b[0m\n\u001b[0;32m    348\u001b[0m         \u001b[0mlikelihood_false_variants\u001b[0m \u001b[1;33m=\u001b[0m \u001b[0msorted\u001b[0m\u001b[1;33m(\u001b[0m\u001b[0mlikelihood_false_variants\u001b[0m\u001b[1;33m)\u001b[0m\u001b[1;33m\u001b[0m\u001b[1;33m\u001b[0m\u001b[0m\n\u001b[1;32m--> 349\u001b[1;33m         \u001b[0mfalse_variant_exists\u001b[0m \u001b[1;33m=\u001b[0m \u001b[1;32mFalse\u001b[0m\u001b[1;33m\u001b[0m\u001b[1;33m\u001b[0m\u001b[0m\n\u001b[0m\u001b[0;32m    350\u001b[0m         \u001b[0mfalse_variant_locs\u001b[0m \u001b[1;33m=\u001b[0m \u001b[1;33m[\u001b[0m\u001b[1;33m]\u001b[0m\u001b[1;33m\u001b[0m\u001b[1;33m\u001b[0m\u001b[0m\n\u001b[0;32m    351\u001b[0m         \u001b[1;32mfor\u001b[0m \u001b[0mlikelihood\u001b[0m\u001b[1;33m,\u001b[0m \u001b[0midx\u001b[0m \u001b[1;32min\u001b[0m \u001b[0mlikelihood_false_variants\u001b[0m\u001b[1;33m:\u001b[0m\u001b[1;33m\u001b[0m\u001b[1;33m\u001b[0m\u001b[0m\n",
            "\u001b[1;32m~\\anaconda3\\lib\\bdb.py\u001b[0m in \u001b[0;36mtrace_dispatch\u001b[1;34m(self, frame, event, arg)\u001b[0m\n\u001b[0;32m     86\u001b[0m             \u001b[1;32mreturn\u001b[0m \u001b[1;31m# None\u001b[0m\u001b[1;33m\u001b[0m\u001b[1;33m\u001b[0m\u001b[0m\n\u001b[0;32m     87\u001b[0m         \u001b[1;32mif\u001b[0m \u001b[0mevent\u001b[0m \u001b[1;33m==\u001b[0m \u001b[1;34m'line'\u001b[0m\u001b[1;33m:\u001b[0m\u001b[1;33m\u001b[0m\u001b[1;33m\u001b[0m\u001b[0m\n\u001b[1;32m---> 88\u001b[1;33m             \u001b[1;32mreturn\u001b[0m \u001b[0mself\u001b[0m\u001b[1;33m.\u001b[0m\u001b[0mdispatch_line\u001b[0m\u001b[1;33m(\u001b[0m\u001b[0mframe\u001b[0m\u001b[1;33m)\u001b[0m\u001b[1;33m\u001b[0m\u001b[1;33m\u001b[0m\u001b[0m\n\u001b[0m\u001b[0;32m     89\u001b[0m         \u001b[1;32mif\u001b[0m \u001b[0mevent\u001b[0m \u001b[1;33m==\u001b[0m \u001b[1;34m'call'\u001b[0m\u001b[1;33m:\u001b[0m\u001b[1;33m\u001b[0m\u001b[1;33m\u001b[0m\u001b[0m\n\u001b[0;32m     90\u001b[0m             \u001b[1;32mreturn\u001b[0m \u001b[0mself\u001b[0m\u001b[1;33m.\u001b[0m\u001b[0mdispatch_call\u001b[0m\u001b[1;33m(\u001b[0m\u001b[0mframe\u001b[0m\u001b[1;33m,\u001b[0m \u001b[0marg\u001b[0m\u001b[1;33m)\u001b[0m\u001b[1;33m\u001b[0m\u001b[1;33m\u001b[0m\u001b[0m\n",
            "\u001b[1;32m~\\anaconda3\\lib\\bdb.py\u001b[0m in \u001b[0;36mdispatch_line\u001b[1;34m(self, frame)\u001b[0m\n\u001b[0;32m    111\u001b[0m         \u001b[1;32mif\u001b[0m \u001b[0mself\u001b[0m\u001b[1;33m.\u001b[0m\u001b[0mstop_here\u001b[0m\u001b[1;33m(\u001b[0m\u001b[0mframe\u001b[0m\u001b[1;33m)\u001b[0m \u001b[1;32mor\u001b[0m \u001b[0mself\u001b[0m\u001b[1;33m.\u001b[0m\u001b[0mbreak_here\u001b[0m\u001b[1;33m(\u001b[0m\u001b[0mframe\u001b[0m\u001b[1;33m)\u001b[0m\u001b[1;33m:\u001b[0m\u001b[1;33m\u001b[0m\u001b[1;33m\u001b[0m\u001b[0m\n\u001b[0;32m    112\u001b[0m             \u001b[0mself\u001b[0m\u001b[1;33m.\u001b[0m\u001b[0muser_line\u001b[0m\u001b[1;33m(\u001b[0m\u001b[0mframe\u001b[0m\u001b[1;33m)\u001b[0m\u001b[1;33m\u001b[0m\u001b[1;33m\u001b[0m\u001b[0m\n\u001b[1;32m--> 113\u001b[1;33m             \u001b[1;32mif\u001b[0m \u001b[0mself\u001b[0m\u001b[1;33m.\u001b[0m\u001b[0mquitting\u001b[0m\u001b[1;33m:\u001b[0m \u001b[1;32mraise\u001b[0m \u001b[0mBdbQuit\u001b[0m\u001b[1;33m\u001b[0m\u001b[1;33m\u001b[0m\u001b[0m\n\u001b[0m\u001b[0;32m    114\u001b[0m         \u001b[1;32mreturn\u001b[0m \u001b[0mself\u001b[0m\u001b[1;33m.\u001b[0m\u001b[0mtrace_dispatch\u001b[0m\u001b[1;33m\u001b[0m\u001b[1;33m\u001b[0m\u001b[0m\n\u001b[0;32m    115\u001b[0m \u001b[1;33m\u001b[0m\u001b[0m\n",
            "\u001b[1;31mBdbQuit\u001b[0m: "
          ]
        }
      ],
      "source": [
        "remove_false_variants(S1, ST_EN, 0.02, 0.0003, ref_H)"
      ]
    },
    {
      "cell_type": "code",
      "execution_count": 36,
      "id": "6d7cc75d",
      "metadata": {},
      "outputs": [],
      "source": [
        "import warnings\n",
        "import numpy as np\n",
        "import pandas as pd\n",
        "import scipy.stats as st\n",
        "import statsmodels.api as sm\n",
        "from scipy.stats._continuous_distns import _distn_names\n",
        "import matplotlib\n",
        "import matplotlib.pyplot as plt\n",
        "\n",
        "matplotlib.rcParams['figure.figsize'] = (16.0, 12.0)\n",
        "matplotlib.style.use('ggplot')\n",
        "\n",
        "# Create models from data\n",
        "def best_fit_distribution(data, bins=200, ax=None):\n",
        "    \"\"\"Model data by finding best fit distribution to data\"\"\"\n",
        "    # Get histogram of original data\n",
        "    y, x = np.histogram(data, bins=bins, density=True)\n",
        "    x = (x + np.roll(x, -1))[:-1] / 2.0\n",
        "\n",
        "    # Best holders\n",
        "    best_distributions = []\n",
        "\n",
        "    # Estimate distribution parameters from data\n",
        "    for ii, distribution in enumerate([d for d in _distn_names if not d in ['levy_stable', 'studentized_range']]):\n",
        "\n",
        "        print(\"{:>3} / {:<3}: {}\".format( ii+1, len(_distn_names), distribution ))\n",
        "\n",
        "        distribution = getattr(st, distribution)\n",
        "\n",
        "        # Try to fit the distribution\n",
        "        try:\n",
        "            # Ignore warnings from data that can't be fit\n",
        "            with warnings.catch_warnings():\n",
        "                warnings.filterwarnings('ignore')\n",
        "                \n",
        "                # fit dist to data\n",
        "                params = distribution.fit(data)\n",
        "\n",
        "                # Separate parts of parameters\n",
        "                arg = params[:-2]\n",
        "                loc = params[-2]\n",
        "                scale = params[-1]\n",
        "                \n",
        "                # Calculate fitted PDF and error with fit in distribution\n",
        "                pdf = distribution.pdf(x, loc=loc, scale=scale, *arg)\n",
        "                sse = np.sum(np.power(y - pdf, 2.0))\n",
        "                \n",
        "                # if axis pass in add to plot\n",
        "                try:\n",
        "                    if ax:\n",
        "                        pd.Series(pdf, x).plot(ax=ax)\n",
        "                    end\n",
        "                except Exception:\n",
        "                    pass\n",
        "\n",
        "                # identify if this distribution is better\n",
        "                best_distributions.append((distribution, params, sse))\n",
        "        \n",
        "        except Exception:\n",
        "            pass\n",
        "\n",
        "    \n",
        "    return sorted(best_distributions, key=lambda x:x[2])\n",
        "\n",
        "def make_pdf(dist, params, size=10000):\n",
        "    \"\"\"Generate distributions's Probability Distribution Function \"\"\"\n",
        "\n",
        "    # Separate parts of parameters\n",
        "    arg = params[:-2]\n",
        "    loc = params[-2]\n",
        "    scale = params[-1]\n",
        "\n",
        "    # Get sane start and end points of distribution\n",
        "    start = dist.ppf(0.01, *arg, loc=loc, scale=scale) if arg else dist.ppf(0.01, loc=loc, scale=scale)\n",
        "    end = dist.ppf(0.99, *arg, loc=loc, scale=scale) if arg else dist.ppf(0.99, loc=loc, scale=scale)\n",
        "\n",
        "    # Build PDF and turn into pandas Series\n",
        "    x = np.linspace(start, end, size)\n",
        "    y = dist.pdf(x, loc=loc, scale=scale, *arg)\n",
        "    pdf = pd.Series(y, x)\n",
        "\n",
        "    return pdf\n",
        "\n",
        "# Load data from statsmodels datasets\n",
        "data = pd.Series(sm.datasets.elnino.load_pandas().data.set_index('YEAR').values.ravel())\n",
        "data = pd.Series(quals1[2000:3000])"
      ]
    },
    {
      "cell_type": "code",
      "execution_count": 37,
      "id": "2f04cbf4",
      "metadata": {},
      "outputs": [
        {
          "data": {
            "text/plain": [
              "(0.014281125449994412, 0.027842001992501444)"
            ]
          },
          "execution_count": 37,
          "metadata": {},
          "output_type": "execute_result"
        }
      ],
      "source": [
        "m, std = np.mean(quals1[:1000]), np.std(quals1[:1000])\n",
        "m, std"
      ]
    },
    {
      "cell_type": "code",
      "execution_count": 38,
      "id": "ee05ba5a",
      "metadata": {},
      "outputs": [
        {
          "name": "stdout",
          "output_type": "stream",
          "text": [
            "  1 / 104: ksone\n",
            "  2 / 104: kstwo\n",
            "  3 / 104: kstwobign\n",
            "  4 / 104: norm\n",
            "  5 / 104: alpha\n",
            "  6 / 104: anglit\n",
            "  7 / 104: arcsine\n",
            "  8 / 104: beta\n",
            "  9 / 104: betaprime\n",
            " 10 / 104: bradford\n",
            " 11 / 104: burr\n",
            " 12 / 104: burr12\n",
            " 13 / 104: fisk\n",
            " 14 / 104: cauchy\n",
            " 15 / 104: chi\n",
            " 16 / 104: chi2\n",
            " 17 / 104: cosine\n",
            " 18 / 104: dgamma\n",
            " 19 / 104: dweibull\n",
            " 20 / 104: expon\n",
            " 21 / 104: exponnorm\n",
            " 22 / 104: exponweib\n",
            " 23 / 104: exponpow\n",
            " 24 / 104: fatiguelife\n",
            " 25 / 104: foldcauchy\n",
            " 26 / 104: f\n",
            " 27 / 104: foldnorm\n",
            " 28 / 104: weibull_min\n",
            " 29 / 104: weibull_max\n",
            " 30 / 104: genlogistic\n",
            " 31 / 104: genpareto\n",
            " 32 / 104: genexpon\n",
            " 33 / 104: genextreme\n",
            " 34 / 104: gamma\n",
            " 35 / 104: erlang\n",
            " 36 / 104: gengamma\n",
            " 37 / 104: genhalflogistic\n",
            " 38 / 104: genhyperbolic\n",
            " 39 / 104: gompertz\n",
            " 40 / 104: gumbel_r\n",
            " 41 / 104: gumbel_l\n",
            " 42 / 104: halfcauchy\n",
            " 43 / 104: halflogistic\n",
            " 44 / 104: halfnorm\n",
            " 45 / 104: hypsecant\n",
            " 46 / 104: gausshyper\n",
            " 47 / 104: invgamma\n",
            " 48 / 104: invgauss\n",
            " 49 / 104: geninvgauss\n",
            " 50 / 104: norminvgauss\n",
            " 51 / 104: invweibull\n",
            " 52 / 104: johnsonsb\n",
            " 53 / 104: johnsonsu\n",
            " 54 / 104: laplace\n",
            " 55 / 104: laplace_asymmetric\n",
            " 56 / 104: levy\n",
            " 57 / 104: levy_l\n",
            " 58 / 104: logistic\n",
            " 59 / 104: loggamma\n",
            " 60 / 104: loglaplace\n",
            " 61 / 104: lognorm\n",
            " 62 / 104: gilbrat\n",
            " 63 / 104: maxwell\n",
            " 64 / 104: mielke\n",
            " 65 / 104: kappa4\n",
            " 66 / 104: kappa3\n",
            " 67 / 104: moyal\n",
            " 68 / 104: nakagami\n",
            " 69 / 104: ncx2\n",
            " 70 / 104: ncf\n",
            " 71 / 104: t\n",
            " 72 / 104: nct\n",
            " 73 / 104: pareto\n",
            " 74 / 104: lomax\n",
            " 75 / 104: pearson3\n",
            " 76 / 104: powerlaw\n",
            " 77 / 104: powerlognorm\n",
            " 78 / 104: powernorm\n",
            " 79 / 104: rdist\n",
            " 80 / 104: rayleigh\n",
            " 81 / 104: loguniform\n",
            " 82 / 104: reciprocal\n",
            " 83 / 104: rice\n",
            " 84 / 104: recipinvgauss\n",
            " 85 / 104: semicircular\n",
            " 86 / 104: skewcauchy\n",
            " 87 / 104: skewnorm\n",
            " 88 / 104: trapezoid\n",
            " 89 / 104: trapz\n",
            " 90 / 104: triang\n",
            " 91 / 104: truncexpon\n",
            " 92 / 104: truncnorm\n",
            " 93 / 104: tukeylambda\n",
            " 94 / 104: uniform\n",
            " 95 / 104: vonmises\n",
            " 96 / 104: vonmises_line\n",
            " 97 / 104: wald\n",
            " 98 / 104: wrapcauchy\n",
            " 99 / 104: gennorm\n",
            "100 / 104: halfgennorm\n",
            "101 / 104: crystalball\n",
            "102 / 104: argus\n"
          ]
        },
        {
          "data": {
            "text/plain": [
              "Text(0, 0.5, 'Frequency')"
            ]
          },
          "execution_count": 38,
          "metadata": {},
          "output_type": "execute_result"
        },
        {
          "data": {
            "image/png": "[encoded data removed]",
            "text/plain": [
              "<Figure size 864x576 with 1 Axes>"
            ]
          },
          "metadata": {},
          "output_type": "display_data"
        },
        {
          "data": {
            "image/png": "[encoded data removed]",
            "text/plain": [
              "<Figure size 864x576 with 1 Axes>"
            ]
          },
          "metadata": {},
          "output_type": "display_data"
        }
      ],
      "source": [
        "# Plot for comparison\n",
        "plt.figure(figsize=(12,8))\n",
        "ax = data.plot(kind='hist', bins=50, density=True, alpha=0.5, color=list(matplotlib.rcParams['axes.prop_cycle'])[1]['color'])\n",
        "\n",
        "# Save plot limits\n",
        "dataYLim = ax.get_ylim()\n",
        "\n",
        "# Find best fit distribution\n",
        "best_distibutions = best_fit_distribution(data, 200, ax)\n",
        "best_dist = best_distibutions[0]\n",
        "\n",
        "# Update plots\n",
        "ax.set_ylim(dataYLim)\n",
        "\n",
        "# Make PDF with best params \n",
        "pdf = make_pdf(best_dist[0], best_dist[1])\n",
        "\n",
        "# Display\n",
        "plt.figure(figsize=(12,8))\n",
        "ax = pdf.plot(lw=2, label='PDF', legend=True)\n",
        "data.plot(kind='hist', bins=50, density=True, alpha=0.5, label='Data', legend=True, ax=ax)\n",
        "\n",
        "param_names = (best_dist[0].shapes + ', loc, scale').split(', ') if best_dist[0].shapes else ['loc', 'scale']\n",
        "param_str = ', '.join(['{}={:0.2f}'.format(k,v) for k,v in zip(param_names, best_dist[1])])\n",
        "dist_str = '{}({})'.format(best_dist[0].name, param_str)\n"
      ]
    },
    {
      "cell_type": "code",
      "execution_count": 1,
      "id": "2e37611a",
      "metadata": {},
      "outputs": [],
      "source": [
        "ground_truth_vcf_path='data/GIAB/HG002_GRCh38_1_22_v4.1_draft_benchmark.vcf'\n",
        "giab_bed_path='data/GIAB/HG002_GRCh38_1_22_v4.1_draft_benchmark.bed'"
      ]
    },
    {
      "cell_type": "code",
      "execution_count": 2,
      "id": "17abe5cd",
      "metadata": {},
      "outputs": [
        {
          "ename": "NameError",
          "evalue": "name 'get_error_freq' is not defined",
          "output_type": "error",
          "traceback": [
            "\u001b[0;31m---------------------------------------------------------------------------\u001b[0m",
            "\u001b[0;31mNameError\u001b[0m                                 Traceback (most recent call last)",
            "\u001b[0;32m/tmp/ipykernel_10306/1113320858.py\u001b[0m in \u001b[0;36m<module>\u001b[0;34m\u001b[0m\n\u001b[1;32m      1\u001b[0m \u001b[0mfragments_path\u001b[0m\u001b[0;34m=\u001b[0m\u001b[0;34m'data/fragments/chr20_1-500K/fragments.txt'\u001b[0m\u001b[0;34m\u001b[0m\u001b[0;34m\u001b[0m\u001b[0m\n\u001b[1;32m      2\u001b[0m \u001b[0mlongshot_vcf_path\u001b[0m\u001b[0;34m=\u001b[0m\u001b[0;34m'data/fragments/chr20_1-500K/2.0.realigned_genotypes.vcf'\u001b[0m\u001b[0;34m\u001b[0m\u001b[0;34m\u001b[0m\u001b[0m\n\u001b[0;32m----> 3\u001b[0;31m \u001b[0mfreq\u001b[0m \u001b[0;34m=\u001b[0m \u001b[0mget_error_freq\u001b[0m\u001b[0;34m(\u001b[0m\u001b[0mfragments_path\u001b[0m\u001b[0;34m,\u001b[0m \u001b[0mlongshot_vcf_path\u001b[0m\u001b[0;34m)\u001b[0m\u001b[0;34m\u001b[0m\u001b[0;34m\u001b[0m\u001b[0m\n\u001b[0m",
            "\u001b[0;31mNameError\u001b[0m: name 'get_error_freq' is not defined"
          ]
        }
      ],
      "source": [
        "\n",
        "\n",
        "\n",
        "fragments_path='data/fragments/chr20_1-500K/fragments.txt'\n",
        "longshot_vcf_path='data/fragments/chr20_1-500K/2.0.realigned_genotypes.vcf'\n",
        "freq = get_error_freq(fragments_path, longshot_vcf_path)\n"
      ]
    },
    {
      "cell_type": "code",
      "execution_count": 90,
      "id": "30f1901e",
      "metadata": {},
      "outputs": [
        {
          "data": {
            "text/plain": [
              "array([0.00630957, 0.00630957, 0.00630957, 0.1       , 0.00794328,\n",
              "       0.19952623, 0.00630957, 0.00630957, 0.00630957, 0.00630957])"
            ]
          },
          "execution_count": 90,
          "metadata": {},
          "output_type": "execute_result"
        }
      ],
      "source": [
        "\n",
        "generate_samples_of_len(10, freq)    \n"
      ]
    },
    {
      "cell_type": "code",
      "execution_count": null,
      "id": "beeb3499",
      "metadata": {},
      "outputs": [],
      "source": []
    },
    {
      "cell_type": "code",
      "execution_count": 49,
      "id": "0e164272",
      "metadata": {},
      "outputs": [
        {
          "data": {
            "text/plain": [
              "array([[ 2,  2, 10,  4, 26],\n",
              "       [ 2,  2, 10,  4, 26]])"
            ]
          },
          "execution_count": 49,
          "metadata": {},
          "output_type": "execute_result"
        }
      ],
      "source": [
        "x = np.array([[2, 5, 10, 17, 26], [2, 5, 10, 17, 26]])\n",
        "y = np.array([0, 1, 0, 1, 0], dtype=\"bool\")\n",
        "# masked\n",
        "x[:, y] = [2, 4]\n",
        "x\n",
        "\n"
      ]
    },
    {
      "cell_type": "code",
      "execution_count": 37,
      "id": "e1d3a6aa",
      "metadata": {},
      "outputs": [],
      "source": [
        "\n",
        "\n"
      ]
    },
    {
      "cell_type": "code",
      "execution_count": 39,
      "id": "f833df1d",
      "metadata": {},
      "outputs": [
        {
          "name": "stdout",
          "output_type": "stream",
          "text": [
            "[13 22 25]\n"
          ]
        },
        {
          "data": {
            "text/plain": [
              "[(5.324177199394176e-12, 23),\n",
              " (9.184997998436638e-11, 19),\n",
              " (1.1009455514679497e-08, 20),\n",
              " (2.4501060351892216e-08, 17),\n",
              " (5.6072650762281196e-08, 21),\n",
              " (6.044219720004228e-07, 13),\n",
              " (1.4257579108034304e-06, 15),\n",
              " (2.9192352046435855e-06, 18),\n",
              " (3.2221714671991203e-06, 24),\n",
              " (7.043625959125479e-06, 14),\n",
              " (1.4867828454595327e-05, 16),\n",
              " (0.00025026324495828984, 26),\n",
              " (0.0002977469093249775, 22),\n",
              " (0.0007716671965203708, 11),\n",
              " (0.0012807270859502072, 9),\n",
              " (0.0017052756272155814, 6),\n",
              " (0.0018880628215111302, 12),\n",
              " (0.003926919318680138, 28),\n",
              " (0.003967007988244284, 5),\n",
              " (0.004092172293601708, 27),\n",
              " (0.018898226303321053, 4),\n",
              " (0.019677787693010755, 7),\n",
              " (0.019693509730169152, 10),\n",
              " (0.020095752597280313, 8),\n",
              " (0.04355466361783209, 2),\n",
              " (0.04355466361783209, 3),\n",
              " (0.09243814269135009, 25),\n",
              " (0.2044385315539353, 0),\n",
              " (0.2044385315539353, 1),\n",
              " (nan, 29)]"
            ]
          },
          "execution_count": 39,
          "metadata": {},
          "output_type": "execute_result"
        }
      ],
      "source": [
        "print(false_variant_locs)\n",
        "res"
      ]
    },
    {
      "cell_type": "code",
      "execution_count": 80,
      "id": "c43ff002",
      "metadata": {},
      "outputs": [
        {
          "name": "stdout",
          "output_type": "stream",
          "text": [
            "False variant locations are [3, 5, 6]\n",
            "reference haplotype values for the variants are:\n",
            "\n",
            "\n",
            "1 0 0 1 0 1 1 0 0 1 0 1 1 0 0 0 1 1 1 1 1 0 0 1 1 0 0 0 1 0\n",
            "0 1 1 1 1 1 1 1 1 0 1 0 0 1 1 1 0 0 0 0 0 1 1 0 0 1 1 1 0 1\n",
            "\n",
            "\n",
            "- - - - - - - - - - - - - - - - 0 0 0 0 0 1 - - - - - - - -\n",
            "- - - - - - - - - - - - - - - - - - - 0 0 1 1 - - - - - - -\n",
            "- - - - - - - - - - - - - - - - - - - 1 1 0 0 - - - - - - -\n",
            "- - - - - - - - - - - - - - - - - - - 0 0 1 1 0 - - - - - -\n",
            "- - - - - - - - - - - - - - - - - - - 0 0 1 1 0 0 - - - - -\n",
            "- - - - - - - - - - - - - - - - - - - 1 1 0 0 1 1 0 - - - -\n",
            "- - - - - - - - - - - - - - - - - - - - - 1 1 0 - - - - - -\n",
            "- - - - - - - - - - - - - - - - - - - - - 0 0 1 1 - - - - -\n",
            "- - - - - - - - - - - - - - - - - - - - - 0 0 1 1 0 0 - - -\n"
          ]
        }
      ],
      "source": [
        "\n",
        "over_S, over_st_en =  get_overlapping_fragments_for_variants_sites(S1, ST_EN, 22)\n",
        "generate_matrix_for_visualization(ref_H, false_variant_locs, # er_hap_samples, sts_ens)\n",
        "                                  over_S, over_st_en)"
      ]
    },
    {
      "cell_type": "code",
      "execution_count": 4,
      "id": "22c65c6d-8121-463d-ba30-757820ff34e8",
      "metadata": {
        "colab": {
          "base_uri": "https://localhost:8080/"
        },
        "id": "22c65c6d-8121-463d-ba30-757820ff34e8",
        "outputId": "4959fa69-1aa2-453e-97c7-19cc97bbaced"
      },
      "outputs": [
        {
          "ename": "NameError",
          "evalue": "name 'get_probability_fragments_from_same_fragment' is not defined",
          "output_type": "error",
          "traceback": [
            "\u001b[1;31m---------------------------------------------------------------------------\u001b[0m",
            "\u001b[1;31mNameError\u001b[0m                                 Traceback (most recent call last)",
            "\u001b[1;32m<ipython-input-4-739a3a560759>\u001b[0m in \u001b[0;36m<module>\u001b[1;34m\u001b[0m\n\u001b[1;32m----> 1\u001b[1;33m \u001b[0mprint\u001b[0m\u001b[1;33m(\u001b[0m\u001b[0mget_probability_fragments_from_same_fragment\u001b[0m\u001b[1;33m(\u001b[0m\u001b[0mS1\u001b[0m\u001b[1;33m[\u001b[0m\u001b[1;36m2\u001b[0m\u001b[1;33m:\u001b[0m\u001b[1;36m2\u001b[0m\u001b[1;33m+\u001b[0m\u001b[1;36m2\u001b[0m\u001b[1;33m]\u001b[0m\u001b[1;33m,\u001b[0m \u001b[0mST_EN\u001b[0m\u001b[1;33m[\u001b[0m\u001b[1;36m2\u001b[0m\u001b[1;33m:\u001b[0m\u001b[1;36m2\u001b[0m\u001b[1;33m+\u001b[0m\u001b[1;36m2\u001b[0m\u001b[1;33m]\u001b[0m\u001b[1;33m,\u001b[0m \u001b[1;36m3\u001b[0m\u001b[1;33m,\u001b[0m \u001b[1;36m0.02\u001b[0m\u001b[1;33m)\u001b[0m\u001b[1;33m)\u001b[0m\u001b[1;33m\u001b[0m\u001b[1;33m\u001b[0m\u001b[0m\n\u001b[0m\u001b[0;32m      2\u001b[0m \u001b[1;31m# for i in range(len(S1)-2):\u001b[0m\u001b[1;33m\u001b[0m\u001b[1;33m\u001b[0m\u001b[1;33m\u001b[0m\u001b[0m\n\u001b[0;32m      3\u001b[0m \u001b[1;31m#     print(get_probability_fragments_from_same_fragment(S1[i:i+2], ST_EN[i:i+2], 3, 0.02)\u001b[0m\u001b[1;33m\u001b[0m\u001b[1;33m\u001b[0m\u001b[1;33m\u001b[0m\u001b[0m\n",
            "\u001b[1;31mNameError\u001b[0m: name 'get_probability_fragments_from_same_fragment' is not defined"
          ]
        }
      ],
      "source": [
        "print(get_probability_fragments_from_same_fragment(S1[2:2+2], ST_EN[2:2+2], 3, 0.02))\n",
        "# for i in range(len(S1)-2):\n",
        "#     print(get_probability_fragments_from_same_fragment(S1[i:i+2], ST_EN[i:i+2], 3, 0.02)"
      ]
    },
    {
      "cell_type": "code",
      "execution_count": null,
      "id": "ed19296a-8e65-4197-b10f-ce21cf87dfa4",
      "metadata": {
        "id": "ed19296a-8e65-4197-b10f-ce21cf87dfa4"
      },
      "outputs": [],
      "source": []
    },
    {
      "cell_type": "code",
      "execution_count": null,
      "id": "dc764548-9f54-46ed-b2f0-e333c8a240d6",
      "metadata": {
        "colab": {
          "base_uri": "https://localhost:8080/"
        },
        "id": "dc764548-9f54-46ed-b2f0-e333c8a240d6",
        "outputId": "9e22bac3-3350-4d7e-fd2b-89c97a4c14f1"
      },
      "outputs": [],
      "source": []
    },
    {
      "cell_type": "code",
      "execution_count": null,
      "id": "2295ce0f-a634-4998-ac34-096ef7ec2e9b",
      "metadata": {
        "colab": {
          "base_uri": "https://localhost:8080/"
        },
        "id": "2295ce0f-a634-4998-ac34-096ef7ec2e9b",
        "outputId": "eea39f8c-c30d-4d6b-ddb9-cbbc3e73d820"
      },
      "outputs": [],
      "source": []
    },
    {
      "cell_type": "code",
      "execution_count": 8,
      "id": "LBCFBeahA9KB",
      "metadata": {
        "id": "LBCFBeahA9KB"
      },
      "outputs": [],
      "source": []
    },
    {
      "cell_type": "code",
      "execution_count": null,
      "id": "vcxYpmTZWEXK",
      "metadata": {
        "id": "vcxYpmTZWEXK"
      },
      "outputs": [],
      "source": []
    },
    {
      "cell_type": "code",
      "execution_count": null,
      "id": "xGNisT-_WJaJ",
      "metadata": {
        "id": "xGNisT-_WJaJ"
      },
      "outputs": [],
      "source": []
    },
    {
      "cell_type": "markdown",
      "id": "6lb_vsWDwELC",
      "metadata": {
        "id": "6lb_vsWDwELC"
      },
      "source": [
        "Notes: We want to incorporate sequencing errors in the fragments f1 and f2 and get the confidence whether f1 and f2 belong from the same haplotype. Use some probablity to guess whether f1 and f2 belong to the same haplotype. \n",
        "\n",
        "Now once we have a probablity that f1 and f2 belong to the same haplotype, we want to check whether a variant is a false variant.\n",
        "\n",
        "What is a false variant ? \n",
        "False variant is a location where the alleles are homozygous but the sequencing \n",
        "assumes / wrongly interprets the site as heterozygous. \n",
        "Hitherto, in the fragments (for these false variants) there would be a substantial amount of fragments where this site has the same allele say 0 for \n",
        "both fragments coming from both H1 and H2 (as it is not really a variant hence same allele is observed irrespective sample from H1 or H2 (0, 0) in the given position).\n",
        "\n",
        "However for sequencing errors the errors are randomly distributed among different variants for different fragments.\n",
        "\n",
        "Problem statement, we want to identify these false variant locations for the \n",
        "sequenced data, as these become difficult to handle while performing Hap assembly.\n",
        "\n",
        "When we have a good coverage for a particular false variant, \n",
        "if we have fragment f1 which belongs to H1 and a fragment f2 which belongs to H2, the value for the variants are complement of each other except for the false variant. \n",
        "\n",
        "Now we dont know whether the fragment belongs to either H1 or H2, "
      ]
    }
  ],
  "metadata": {
    "colab": {
      "name": "HAP_simulation.ipynb",
      "provenance": []
    },
    "kernelspec": {
      "display_name": "Python 3",
      "language": "python",
      "name": "python3"
    },
    "language_info": {
      "codemirror_mode": {
        "name": "ipython",
        "version": 3
      },
      "file_extension": ".py",
      "mimetype": "text/x-python",
      "name": "python",
      "nbconvert_exporter": "python",
      "pygments_lexer": "ipython3",
      "version": "3.9.7"
    }
  },
  "nbformat": 4,
  "nbformat_minor": 5
}

{
  "cells": [
    {
      "cell_type": "code",
      "execution_count": 2,
      "id": "b6c2bbf3-dd50-4942-b6ac-2c6c2c851013",
      "metadata": {
        "id": "b6c2bbf3-dd50-4942-b6ac-2c6c2c851013"
      },
      "outputs": [
        {
          "name": "stdout",
          "output_type": "stream",
          "text": [
            "\n",
            "\n",
            "[ 3  9 15]\n",
            "0 0 1 0 1 1 0 0 0 1 0 1 1 0 1 0 0 1 0 0 0 1 0 0 1 1 0 1 1 1\n",
            "1 1 0 0 0 0 1 1 1 1 1 0 0 1 0 0 1 0 1 1 1 0 1 1 0 0 1 0 0 0\n",
            "\n",
            "\n"
          ]
        }
      ],
      "source": [
        "from utils import *\n",
        "from copy import deepcopy\n",
        "\n",
        "ref_length = int(30)\n",
        "H12, false_variant_locs = create_reference_hap(ref_length=ref_length, \n",
        "                                               false_variance = 0.1)\n",
        "ref_H = deepcopy(H12)\n",
        "samples, st_en = generate_fragments(ref_H,\n",
        "                                    read_length=5, \n",
        "                                    std_read_length=1, \n",
        "                                    coverage=6,)\n",
        "\n",
        "\n",
        "hap_samples = deepcopy(samples)\n",
        "start_end = deepcopy(st_en)\n",
        "S1, ST_EN = cluster_fragments(hap_samples, st_en)"
      ]
    },
    {
      "cell_type": "code",
      "execution_count": 12,
      "id": "bfdc4128-7b87-4312-9985-43ba1697a9ba",
      "metadata": {
        "id": "bfdc4128-7b87-4312-9985-43ba1697a9ba"
      },
      "outputs": [],
      "source": [
        "er_hap_samples, sts_ens, frag_file_contents = simulate_haplotypes_errors(hap_samples = S1, \n",
        "                                                                         reads_st_en = ST_EN,\n",
        "                                                                         false_variant_locs = false_variant_locs)"
      ]
    },
    {
      "cell_type": "code",
      "execution_count": 31,
      "id": "d6c679ce-eec2-4df5-aaa0-24e957877c1c",
      "metadata": {
        "colab": {
          "base_uri": "https://localhost:8080/"
        },
        "id": "d6c679ce-eec2-4df5-aaa0-24e957877c1c",
        "outputId": "92171242-d17e-487d-8260-bcceb95757dd"
      },
      "outputs": [
        {
          "name": "stdout",
          "output_type": "stream",
          "text": [
            "False variant locations are [3, 9, 15]\n",
            "reference haplotype values for the variants are:\n",
            "\n",
            "\n",
            "0 0 1 0 1 1 0 0 0 1 0 1 1 0 1 0 0 1 0 0 0 1 0 0 1 1 0 1 1 1\n",
            "1 1 0 0 0 0 1 1 1 1 1 0 0 1 0 0 1 0 1 1 1 0 1 1 0 0 1 0 0 0\n",
            "\n",
            "\n",
            "- 0 1 1 1 1 - - - - - - - - - - - - - - - - - - - - - - - -\n",
            "- - 0 1 0 0 - - - - - - - - - - - - - - - - - - - - - - - -\n"
          ]
        }
      ],
      "source": [
        "generate_matrix_for_visualization(ref_H, false_variant_locs, # er_hap_samples, sts_ens)\n",
        "                                  S1[2+1:4+1], ST_EN[2+1:4+1])\n"
      ]
    },
    {
      "cell_type": "code",
      "execution_count": 62,
      "id": "a55e2118",
      "metadata": {},
      "outputs": [],
      "source": [
        "def get_likelihood_heterozygous_genotype(reads, st_en, index, qual):\n",
        "    \"\"\"\n",
        "    Return the likelihood of the site at index being a heterozygous genotype, for the reads \n",
        "    - coming from same Haplotype,\n",
        "    - coming from the different Haplotype.\n",
        "    \"\"\"\n",
        "    import ipdb;ipdb.set_trace()\n",
        "    assert len(reads) == 2 and len(st_en)==2\n",
        "    assert index>=max(st_en[0][0], st_en[1][0]) and index<=min(st_en[0][1], st_en[1][1])\n",
        "    index0, index1 = index - st_en[0][0], index - st_en[1][0]\n",
        "    if reads[0][index0] == reads[1][index1]:\n",
        "        # Same value at the site\n",
        "        likelihood_same = ((1-qual)*(1-qual))/2 + (qual*qual)/2\n",
        "        likelihood_diff = qual * (1 - qual)\n",
        "    else:\n",
        "        # Different values at the given site\n",
        "        likelihood_same = qual * (1 - qual)\n",
        "        likelihood_diff = ((1-qual)*(1-qual))/2 + (qual*qual)/2\n",
        "    return likelihood_same, likelihood_diff\n",
        "        "
      ]
    },
    {
      "cell_type": "code",
      "execution_count": 63,
      "id": "6d7cc75d",
      "metadata": {},
      "outputs": [],
      "source": [
        "     \n",
        "def calculate_likelihood_of_heterozygous_site(ref_H, false_variant_locs, reads, st_en, index, qual):\n",
        "    \"\"\"\n",
        "    Given the reads what is the likelihood of allele lying at index being \n",
        "    a heterozygous genotype.\n",
        "    param qual: the qual of the reads, currently it is a constant.maketrans()\n",
        "    # TODO: Make qual an array which stores the qual of each of the index.\n",
        "    \"\"\"\n",
        "    import ipdb;ipdb.set_trace()\n",
        "    reads, st_en = cluster_fragments(reads, st_en)\n",
        "    overlapping_reads, overlapping_st_en = get_overlapping_fragments_for_variants_sites(reads, st_en, index)    \n",
        "    #generate_matrix_for_visualization(ref_H, false_variant_locs, overlapping_reads, overlapping_st_en)\n",
        "    num_frags = len(overlapping_reads)\n",
        "    \n",
        "    # Let the first bit for H1 be 0 and first bit of H2 = 1( without loss of generality) \n",
        "    # Likelihood for the reads lying in H1, H2 given i fragments are stored in the ith index of the\n",
        "    # array likelihood_per_reads\n",
        "    \n",
        "    ipdb.set_trace()\n",
        "    frag_0 = (overlapping_reads[0], overlapping_st_en[0])\n",
        "    likelihood_per_reads = [(1-qual, qual) if overlapping_reads[0][0] == 0 else (qual, 1-qual)]\n",
        "    \n",
        "    for i in range(1, num_frags):\n",
        "        frag_1 = (overlapping_reads[i], overlapping_st_en[i])\n",
        "        r, s_e = [frag_0[0], frag_1[0]],  [frag_0[1], frag_1[1]]\n",
        "        \n",
        "        prob_same, prob_diff = get_probability_fragments_from_same_fragment(r, s_e, index, qual)\n",
        "             \n",
        "        same_lik, diff_lik = get_likelihood_heterozygous_genotype(r, s_e, index, qual)\n",
        "        \n",
        "        l1_prev, l2_prev = likelihood_per_reads[-1]\n",
        "        \n",
        "        # l1 is the likelihood that the xi fragment is sampled from the H1\n",
        "        # l2 is the likelihood that the xi fragment is sampled from the H2.         \n",
        "        l1 = l1_prev*prob_same*same_lik + l2_prev*prob_diff*diff_lik\n",
        "        l2 = l1_prev*prob_diff*diff_lik + l2_prev*prob_same*same_lik\n",
        "        \n",
        "        likelihood_per_reads.append((l1, l2))       \n",
        "        \n",
        "        frag_0 = frag_1\n",
        "    # Finally my likelihood per_reads would contain,\n",
        "    # the likelihood of the site at index to be heterozygous\n",
        "    heteroz_likelihood = likelihood_per_reads[-1][0] + likelihood_per_reads[-1][1]\n",
        "    return  heteroz_likelihood\n",
        "        "
      ]
    },
    {
      "cell_type": "code",
      "execution_count": 65,
      "id": "e1d3a6aa",
      "metadata": {},
      "outputs": [
        {
          "name": "stdout",
          "output_type": "stream",
          "text": [
            "> \u001b[1;32m<ipython-input-63-74a30aed7d37>\u001b[0m(9)\u001b[0;36mcalculate_likelihood_of_heterozygous_site\u001b[1;34m()\u001b[0m\n",
            "\u001b[1;32m      8 \u001b[1;33m    \u001b[1;32mimport\u001b[0m \u001b[0mipdb\u001b[0m\u001b[1;33m;\u001b[0m\u001b[0mipdb\u001b[0m\u001b[1;33m.\u001b[0m\u001b[0mset_trace\u001b[0m\u001b[1;33m(\u001b[0m\u001b[1;33m)\u001b[0m\u001b[1;33m\u001b[0m\u001b[1;33m\u001b[0m\u001b[0m\n",
            "\u001b[0m\u001b[1;32m----> 9 \u001b[1;33m    \u001b[0mreads\u001b[0m\u001b[1;33m,\u001b[0m \u001b[0mst_en\u001b[0m \u001b[1;33m=\u001b[0m \u001b[0mcluster_fragments\u001b[0m\u001b[1;33m(\u001b[0m\u001b[0mreads\u001b[0m\u001b[1;33m,\u001b[0m \u001b[0mst_en\u001b[0m\u001b[1;33m)\u001b[0m\u001b[1;33m\u001b[0m\u001b[1;33m\u001b[0m\u001b[0m\n",
            "\u001b[0m\u001b[1;32m     10 \u001b[1;33m    \u001b[0moverlapping_reads\u001b[0m\u001b[1;33m,\u001b[0m \u001b[0moverlapping_st_en\u001b[0m \u001b[1;33m=\u001b[0m \u001b[0mget_overlapping_fragments_for_variants_sites\u001b[0m\u001b[1;33m(\u001b[0m\u001b[0mreads\u001b[0m\u001b[1;33m,\u001b[0m \u001b[0mst_en\u001b[0m\u001b[1;33m,\u001b[0m \u001b[0mindex\u001b[0m\u001b[1;33m)\u001b[0m\u001b[1;33m\u001b[0m\u001b[1;33m\u001b[0m\u001b[0m\n",
            "\u001b[0m\n",
            "> \u001b[1;32m<ipython-input-63-74a30aed7d37>\u001b[0m(19)\u001b[0;36mcalculate_likelihood_of_heterozygous_site\u001b[1;34m()\u001b[0m\n",
            "\u001b[1;32m     18 \u001b[1;33m    \u001b[0mipdb\u001b[0m\u001b[1;33m.\u001b[0m\u001b[0mset_trace\u001b[0m\u001b[1;33m(\u001b[0m\u001b[1;33m)\u001b[0m\u001b[1;33m\u001b[0m\u001b[1;33m\u001b[0m\u001b[0m\n",
            "\u001b[0m\u001b[1;32m---> 19 \u001b[1;33m    \u001b[0mfrag_0\u001b[0m \u001b[1;33m=\u001b[0m \u001b[1;33m(\u001b[0m\u001b[0moverlapping_reads\u001b[0m\u001b[1;33m[\u001b[0m\u001b[1;36m0\u001b[0m\u001b[1;33m]\u001b[0m\u001b[1;33m,\u001b[0m \u001b[0moverlapping_st_en\u001b[0m\u001b[1;33m[\u001b[0m\u001b[1;36m0\u001b[0m\u001b[1;33m]\u001b[0m\u001b[1;33m)\u001b[0m\u001b[1;33m\u001b[0m\u001b[1;33m\u001b[0m\u001b[0m\n",
            "\u001b[0m\u001b[1;32m     20 \u001b[1;33m    \u001b[0mlikelihood_per_reads\u001b[0m \u001b[1;33m=\u001b[0m \u001b[1;33m[\u001b[0m\u001b[1;33m(\u001b[0m\u001b[1;36m1\u001b[0m\u001b[1;33m-\u001b[0m\u001b[0mqual\u001b[0m\u001b[1;33m,\u001b[0m \u001b[0mqual\u001b[0m\u001b[1;33m)\u001b[0m \u001b[1;32mif\u001b[0m \u001b[0moverlapping_reads\u001b[0m\u001b[1;33m[\u001b[0m\u001b[1;36m0\u001b[0m\u001b[1;33m]\u001b[0m\u001b[1;33m[\u001b[0m\u001b[1;36m0\u001b[0m\u001b[1;33m]\u001b[0m \u001b[1;33m==\u001b[0m \u001b[1;36m0\u001b[0m \u001b[1;32melse\u001b[0m \u001b[1;33m(\u001b[0m\u001b[0mqual\u001b[0m\u001b[1;33m,\u001b[0m \u001b[1;36m1\u001b[0m\u001b[1;33m-\u001b[0m\u001b[0mqual\u001b[0m\u001b[1;33m)\u001b[0m\u001b[1;33m]\u001b[0m\u001b[1;33m\u001b[0m\u001b[1;33m\u001b[0m\u001b[0m\n",
            "\u001b[0m\n",
            "> \u001b[1;32m<ipython-input-62-1d6711cc3c03>\u001b[0m(8)\u001b[0;36mget_likelihood_heterozygous_genotype\u001b[1;34m()\u001b[0m\n",
            "\u001b[1;32m      7 \u001b[1;33m    \u001b[1;32mimport\u001b[0m \u001b[0mipdb\u001b[0m\u001b[1;33m;\u001b[0m\u001b[0mipdb\u001b[0m\u001b[1;33m.\u001b[0m\u001b[0mset_trace\u001b[0m\u001b[1;33m(\u001b[0m\u001b[1;33m)\u001b[0m\u001b[1;33m\u001b[0m\u001b[1;33m\u001b[0m\u001b[0m\n",
            "\u001b[0m\u001b[1;32m----> 8 \u001b[1;33m    \u001b[1;32massert\u001b[0m \u001b[0mlen\u001b[0m\u001b[1;33m(\u001b[0m\u001b[0mreads\u001b[0m\u001b[1;33m)\u001b[0m \u001b[1;33m==\u001b[0m \u001b[1;36m2\u001b[0m \u001b[1;32mand\u001b[0m \u001b[0mlen\u001b[0m\u001b[1;33m(\u001b[0m\u001b[0mst_en\u001b[0m\u001b[1;33m)\u001b[0m\u001b[1;33m==\u001b[0m\u001b[1;36m2\u001b[0m\u001b[1;33m\u001b[0m\u001b[1;33m\u001b[0m\u001b[0m\n",
            "\u001b[0m\u001b[1;32m      9 \u001b[1;33m    \u001b[1;32massert\u001b[0m \u001b[0mindex\u001b[0m\u001b[1;33m>=\u001b[0m\u001b[0mmax\u001b[0m\u001b[1;33m(\u001b[0m\u001b[0mst_en\u001b[0m\u001b[1;33m[\u001b[0m\u001b[1;36m0\u001b[0m\u001b[1;33m]\u001b[0m\u001b[1;33m[\u001b[0m\u001b[1;36m0\u001b[0m\u001b[1;33m]\u001b[0m\u001b[1;33m,\u001b[0m \u001b[0mst_en\u001b[0m\u001b[1;33m[\u001b[0m\u001b[1;36m1\u001b[0m\u001b[1;33m]\u001b[0m\u001b[1;33m[\u001b[0m\u001b[1;36m0\u001b[0m\u001b[1;33m]\u001b[0m\u001b[1;33m)\u001b[0m \u001b[1;32mand\u001b[0m \u001b[0mindex\u001b[0m\u001b[1;33m<=\u001b[0m\u001b[0mmin\u001b[0m\u001b[1;33m(\u001b[0m\u001b[0mst_en\u001b[0m\u001b[1;33m[\u001b[0m\u001b[1;36m0\u001b[0m\u001b[1;33m]\u001b[0m\u001b[1;33m[\u001b[0m\u001b[1;36m1\u001b[0m\u001b[1;33m]\u001b[0m\u001b[1;33m,\u001b[0m \u001b[0mst_en\u001b[0m\u001b[1;33m[\u001b[0m\u001b[1;36m1\u001b[0m\u001b[1;33m]\u001b[0m\u001b[1;33m[\u001b[0m\u001b[1;36m1\u001b[0m\u001b[1;33m]\u001b[0m\u001b[1;33m)\u001b[0m\u001b[1;33m\u001b[0m\u001b[1;33m\u001b[0m\u001b[0m\n",
            "\u001b[0m\n",
            "> \u001b[1;32m<ipython-input-62-1d6711cc3c03>\u001b[0m(9)\u001b[0;36mget_likelihood_heterozygous_genotype\u001b[1;34m()\u001b[0m\n",
            "\u001b[1;32m      8 \u001b[1;33m    \u001b[1;32massert\u001b[0m \u001b[0mlen\u001b[0m\u001b[1;33m(\u001b[0m\u001b[0mreads\u001b[0m\u001b[1;33m)\u001b[0m \u001b[1;33m==\u001b[0m \u001b[1;36m2\u001b[0m \u001b[1;32mand\u001b[0m \u001b[0mlen\u001b[0m\u001b[1;33m(\u001b[0m\u001b[0mst_en\u001b[0m\u001b[1;33m)\u001b[0m\u001b[1;33m==\u001b[0m\u001b[1;36m2\u001b[0m\u001b[1;33m\u001b[0m\u001b[1;33m\u001b[0m\u001b[0m\n",
            "\u001b[0m\u001b[1;32m----> 9 \u001b[1;33m    \u001b[1;32massert\u001b[0m \u001b[0mindex\u001b[0m\u001b[1;33m>=\u001b[0m\u001b[0mmax\u001b[0m\u001b[1;33m(\u001b[0m\u001b[0mst_en\u001b[0m\u001b[1;33m[\u001b[0m\u001b[1;36m0\u001b[0m\u001b[1;33m]\u001b[0m\u001b[1;33m[\u001b[0m\u001b[1;36m0\u001b[0m\u001b[1;33m]\u001b[0m\u001b[1;33m,\u001b[0m \u001b[0mst_en\u001b[0m\u001b[1;33m[\u001b[0m\u001b[1;36m1\u001b[0m\u001b[1;33m]\u001b[0m\u001b[1;33m[\u001b[0m\u001b[1;36m0\u001b[0m\u001b[1;33m]\u001b[0m\u001b[1;33m)\u001b[0m \u001b[1;32mand\u001b[0m \u001b[0mindex\u001b[0m\u001b[1;33m<=\u001b[0m\u001b[0mmin\u001b[0m\u001b[1;33m(\u001b[0m\u001b[0mst_en\u001b[0m\u001b[1;33m[\u001b[0m\u001b[1;36m0\u001b[0m\u001b[1;33m]\u001b[0m\u001b[1;33m[\u001b[0m\u001b[1;36m1\u001b[0m\u001b[1;33m]\u001b[0m\u001b[1;33m,\u001b[0m \u001b[0mst_en\u001b[0m\u001b[1;33m[\u001b[0m\u001b[1;36m1\u001b[0m\u001b[1;33m]\u001b[0m\u001b[1;33m[\u001b[0m\u001b[1;36m1\u001b[0m\u001b[1;33m]\u001b[0m\u001b[1;33m)\u001b[0m\u001b[1;33m\u001b[0m\u001b[1;33m\u001b[0m\u001b[0m\n",
            "\u001b[0m\u001b[1;32m     10 \u001b[1;33m    \u001b[1;32mif\u001b[0m \u001b[0mreads\u001b[0m\u001b[1;33m[\u001b[0m\u001b[1;36m0\u001b[0m\u001b[1;33m]\u001b[0m\u001b[1;33m[\u001b[0m\u001b[0mindex\u001b[0m \u001b[1;33m-\u001b[0m \u001b[0mst_en\u001b[0m\u001b[1;33m[\u001b[0m\u001b[1;36m0\u001b[0m\u001b[1;33m]\u001b[0m\u001b[1;33m[\u001b[0m\u001b[1;36m0\u001b[0m\u001b[1;33m]\u001b[0m\u001b[1;33m]\u001b[0m \u001b[1;33m==\u001b[0m \u001b[0mreads\u001b[0m\u001b[1;33m[\u001b[0m\u001b[1;36m1\u001b[0m\u001b[1;33m]\u001b[0m\u001b[1;33m[\u001b[0m\u001b[0mindex\u001b[0m \u001b[1;33m-\u001b[0m \u001b[0mst_en\u001b[0m\u001b[1;33m[\u001b[0m\u001b[1;36m1\u001b[0m\u001b[1;33m]\u001b[0m\u001b[1;33m[\u001b[0m\u001b[1;36m0\u001b[0m\u001b[1;33m]\u001b[0m\u001b[1;33m]\u001b[0m\u001b[1;33m:\u001b[0m\u001b[1;33m\u001b[0m\u001b[1;33m\u001b[0m\u001b[0m\n",
            "\u001b[0m\n",
            "> \u001b[1;32m<ipython-input-62-1d6711cc3c03>\u001b[0m(10)\u001b[0;36mget_likelihood_heterozygous_genotype\u001b[1;34m()\u001b[0m\n",
            "\u001b[1;32m      9 \u001b[1;33m    \u001b[1;32massert\u001b[0m \u001b[0mindex\u001b[0m\u001b[1;33m>=\u001b[0m\u001b[0mmax\u001b[0m\u001b[1;33m(\u001b[0m\u001b[0mst_en\u001b[0m\u001b[1;33m[\u001b[0m\u001b[1;36m0\u001b[0m\u001b[1;33m]\u001b[0m\u001b[1;33m[\u001b[0m\u001b[1;36m0\u001b[0m\u001b[1;33m]\u001b[0m\u001b[1;33m,\u001b[0m \u001b[0mst_en\u001b[0m\u001b[1;33m[\u001b[0m\u001b[1;36m1\u001b[0m\u001b[1;33m]\u001b[0m\u001b[1;33m[\u001b[0m\u001b[1;36m0\u001b[0m\u001b[1;33m]\u001b[0m\u001b[1;33m)\u001b[0m \u001b[1;32mand\u001b[0m \u001b[0mindex\u001b[0m\u001b[1;33m<=\u001b[0m\u001b[0mmin\u001b[0m\u001b[1;33m(\u001b[0m\u001b[0mst_en\u001b[0m\u001b[1;33m[\u001b[0m\u001b[1;36m0\u001b[0m\u001b[1;33m]\u001b[0m\u001b[1;33m[\u001b[0m\u001b[1;36m1\u001b[0m\u001b[1;33m]\u001b[0m\u001b[1;33m,\u001b[0m \u001b[0mst_en\u001b[0m\u001b[1;33m[\u001b[0m\u001b[1;36m1\u001b[0m\u001b[1;33m]\u001b[0m\u001b[1;33m[\u001b[0m\u001b[1;36m1\u001b[0m\u001b[1;33m]\u001b[0m\u001b[1;33m)\u001b[0m\u001b[1;33m\u001b[0m\u001b[1;33m\u001b[0m\u001b[0m\n",
            "\u001b[0m\u001b[1;32m---> 10 \u001b[1;33m    \u001b[1;32mif\u001b[0m \u001b[0mreads\u001b[0m\u001b[1;33m[\u001b[0m\u001b[1;36m0\u001b[0m\u001b[1;33m]\u001b[0m\u001b[1;33m[\u001b[0m\u001b[0mindex\u001b[0m \u001b[1;33m-\u001b[0m \u001b[0mst_en\u001b[0m\u001b[1;33m[\u001b[0m\u001b[1;36m0\u001b[0m\u001b[1;33m]\u001b[0m\u001b[1;33m[\u001b[0m\u001b[1;36m0\u001b[0m\u001b[1;33m]\u001b[0m\u001b[1;33m]\u001b[0m \u001b[1;33m==\u001b[0m \u001b[0mreads\u001b[0m\u001b[1;33m[\u001b[0m\u001b[1;36m1\u001b[0m\u001b[1;33m]\u001b[0m\u001b[1;33m[\u001b[0m\u001b[0mindex\u001b[0m \u001b[1;33m-\u001b[0m \u001b[0mst_en\u001b[0m\u001b[1;33m[\u001b[0m\u001b[1;36m1\u001b[0m\u001b[1;33m]\u001b[0m\u001b[1;33m[\u001b[0m\u001b[1;36m0\u001b[0m\u001b[1;33m]\u001b[0m\u001b[1;33m]\u001b[0m\u001b[1;33m:\u001b[0m\u001b[1;33m\u001b[0m\u001b[1;33m\u001b[0m\u001b[0m\n",
            "\u001b[0m\u001b[1;32m     11 \u001b[1;33m        \u001b[1;31m# Same value at the site\u001b[0m\u001b[1;33m\u001b[0m\u001b[1;33m\u001b[0m\u001b[1;33m\u001b[0m\u001b[0m\n",
            "\u001b[0m\n",
            "[(16, 22), (16, 22)]\n",
            "22\n",
            "22\n"
          ]
        },
        {
          "ename": "BdbQuit",
          "evalue": "",
          "output_type": "error",
          "traceback": [
            "\u001b[1;31m---------------------------------------------------------------------------\u001b[0m",
            "\u001b[1;31mBdbQuit\u001b[0m                                   Traceback (most recent call last)",
            "\u001b[1;32m<ipython-input-65-426fc84406a6>\u001b[0m in \u001b[0;36m<module>\u001b[1;34m\u001b[0m\n\u001b[1;32m----> 1\u001b[1;33m \u001b[0mcalculate_likelihood_of_heterozygous_site\u001b[0m\u001b[1;33m(\u001b[0m\u001b[0mref_H\u001b[0m\u001b[1;33m,\u001b[0m \u001b[0mfalse_variant_locs\u001b[0m\u001b[1;33m,\u001b[0m \u001b[0msamples\u001b[0m\u001b[1;33m,\u001b[0m \u001b[0mst_en\u001b[0m\u001b[1;33m,\u001b[0m \u001b[1;36m22\u001b[0m\u001b[1;33m,\u001b[0m \u001b[1;36m0.02\u001b[0m\u001b[1;33m)\u001b[0m\u001b[1;33m\u001b[0m\u001b[1;33m\u001b[0m\u001b[0m\n\u001b[0m",
            "\u001b[1;32m<ipython-input-63-74a30aed7d37>\u001b[0m in \u001b[0;36mcalculate_likelihood_of_heterozygous_site\u001b[1;34m(ref_H, false_variant_locs, reads, st_en, index, qual)\u001b[0m\n\u001b[0;32m     17\u001b[0m \u001b[1;33m\u001b[0m\u001b[0m\n\u001b[0;32m     18\u001b[0m     \u001b[0mipdb\u001b[0m\u001b[1;33m.\u001b[0m\u001b[0mset_trace\u001b[0m\u001b[1;33m(\u001b[0m\u001b[1;33m)\u001b[0m\u001b[1;33m\u001b[0m\u001b[1;33m\u001b[0m\u001b[0m\n\u001b[1;32m---> 19\u001b[1;33m     \u001b[0mfrag_0\u001b[0m \u001b[1;33m=\u001b[0m \u001b[1;33m(\u001b[0m\u001b[0moverlapping_reads\u001b[0m\u001b[1;33m[\u001b[0m\u001b[1;36m0\u001b[0m\u001b[1;33m]\u001b[0m\u001b[1;33m,\u001b[0m \u001b[0moverlapping_st_en\u001b[0m\u001b[1;33m[\u001b[0m\u001b[1;36m0\u001b[0m\u001b[1;33m]\u001b[0m\u001b[1;33m)\u001b[0m\u001b[1;33m\u001b[0m\u001b[1;33m\u001b[0m\u001b[0m\n\u001b[0m\u001b[0;32m     20\u001b[0m     \u001b[0mlikelihood_per_reads\u001b[0m \u001b[1;33m=\u001b[0m \u001b[1;33m[\u001b[0m\u001b[1;33m(\u001b[0m\u001b[1;36m1\u001b[0m\u001b[1;33m-\u001b[0m\u001b[0mqual\u001b[0m\u001b[1;33m,\u001b[0m \u001b[0mqual\u001b[0m\u001b[1;33m)\u001b[0m \u001b[1;32mif\u001b[0m \u001b[0moverlapping_reads\u001b[0m\u001b[1;33m[\u001b[0m\u001b[1;36m0\u001b[0m\u001b[1;33m]\u001b[0m\u001b[1;33m[\u001b[0m\u001b[1;36m0\u001b[0m\u001b[1;33m]\u001b[0m \u001b[1;33m==\u001b[0m \u001b[1;36m0\u001b[0m \u001b[1;32melse\u001b[0m \u001b[1;33m(\u001b[0m\u001b[0mqual\u001b[0m\u001b[1;33m,\u001b[0m \u001b[1;36m1\u001b[0m\u001b[1;33m-\u001b[0m\u001b[0mqual\u001b[0m\u001b[1;33m)\u001b[0m\u001b[1;33m]\u001b[0m\u001b[1;33m\u001b[0m\u001b[1;33m\u001b[0m\u001b[0m\n\u001b[0;32m     21\u001b[0m \u001b[1;33m\u001b[0m\u001b[0m\n",
            "\u001b[1;32m<ipython-input-62-1d6711cc3c03>\u001b[0m in \u001b[0;36mget_likelihood_heterozygous_genotype\u001b[1;34m(reads, st_en, index, qual)\u001b[0m\n\u001b[0;32m      8\u001b[0m     \u001b[1;32massert\u001b[0m \u001b[0mlen\u001b[0m\u001b[1;33m(\u001b[0m\u001b[0mreads\u001b[0m\u001b[1;33m)\u001b[0m \u001b[1;33m==\u001b[0m \u001b[1;36m2\u001b[0m \u001b[1;32mand\u001b[0m \u001b[0mlen\u001b[0m\u001b[1;33m(\u001b[0m\u001b[0mst_en\u001b[0m\u001b[1;33m)\u001b[0m\u001b[1;33m==\u001b[0m\u001b[1;36m2\u001b[0m\u001b[1;33m\u001b[0m\u001b[1;33m\u001b[0m\u001b[0m\n\u001b[0;32m      9\u001b[0m     \u001b[1;32massert\u001b[0m \u001b[0mindex\u001b[0m\u001b[1;33m>=\u001b[0m\u001b[0mmax\u001b[0m\u001b[1;33m(\u001b[0m\u001b[0mst_en\u001b[0m\u001b[1;33m[\u001b[0m\u001b[1;36m0\u001b[0m\u001b[1;33m]\u001b[0m\u001b[1;33m[\u001b[0m\u001b[1;36m0\u001b[0m\u001b[1;33m]\u001b[0m\u001b[1;33m,\u001b[0m \u001b[0mst_en\u001b[0m\u001b[1;33m[\u001b[0m\u001b[1;36m1\u001b[0m\u001b[1;33m]\u001b[0m\u001b[1;33m[\u001b[0m\u001b[1;36m0\u001b[0m\u001b[1;33m]\u001b[0m\u001b[1;33m)\u001b[0m \u001b[1;32mand\u001b[0m \u001b[0mindex\u001b[0m\u001b[1;33m<=\u001b[0m\u001b[0mmin\u001b[0m\u001b[1;33m(\u001b[0m\u001b[0mst_en\u001b[0m\u001b[1;33m[\u001b[0m\u001b[1;36m0\u001b[0m\u001b[1;33m]\u001b[0m\u001b[1;33m[\u001b[0m\u001b[1;36m1\u001b[0m\u001b[1;33m]\u001b[0m\u001b[1;33m,\u001b[0m \u001b[0mst_en\u001b[0m\u001b[1;33m[\u001b[0m\u001b[1;36m1\u001b[0m\u001b[1;33m]\u001b[0m\u001b[1;33m[\u001b[0m\u001b[1;36m1\u001b[0m\u001b[1;33m]\u001b[0m\u001b[1;33m)\u001b[0m\u001b[1;33m\u001b[0m\u001b[1;33m\u001b[0m\u001b[0m\n\u001b[1;32m---> 10\u001b[1;33m     \u001b[1;32mif\u001b[0m \u001b[0mreads\u001b[0m\u001b[1;33m[\u001b[0m\u001b[1;36m0\u001b[0m\u001b[1;33m]\u001b[0m\u001b[1;33m[\u001b[0m\u001b[0mindex\u001b[0m \u001b[1;33m-\u001b[0m \u001b[0mst_en\u001b[0m\u001b[1;33m[\u001b[0m\u001b[1;36m0\u001b[0m\u001b[1;33m]\u001b[0m\u001b[1;33m[\u001b[0m\u001b[1;36m0\u001b[0m\u001b[1;33m]\u001b[0m\u001b[1;33m]\u001b[0m \u001b[1;33m==\u001b[0m \u001b[0mreads\u001b[0m\u001b[1;33m[\u001b[0m\u001b[1;36m1\u001b[0m\u001b[1;33m]\u001b[0m\u001b[1;33m[\u001b[0m\u001b[0mindex\u001b[0m \u001b[1;33m-\u001b[0m \u001b[0mst_en\u001b[0m\u001b[1;33m[\u001b[0m\u001b[1;36m1\u001b[0m\u001b[1;33m]\u001b[0m\u001b[1;33m[\u001b[0m\u001b[1;36m0\u001b[0m\u001b[1;33m]\u001b[0m\u001b[1;33m]\u001b[0m\u001b[1;33m:\u001b[0m\u001b[1;33m\u001b[0m\u001b[1;33m\u001b[0m\u001b[0m\n\u001b[0m\u001b[0;32m     11\u001b[0m         \u001b[1;31m# Same value at the site\u001b[0m\u001b[1;33m\u001b[0m\u001b[1;33m\u001b[0m\u001b[1;33m\u001b[0m\u001b[0m\n\u001b[0;32m     12\u001b[0m         \u001b[0mlikelihood_same\u001b[0m \u001b[1;33m=\u001b[0m \u001b[1;33m(\u001b[0m\u001b[1;33m(\u001b[0m\u001b[1;36m1\u001b[0m\u001b[1;33m-\u001b[0m\u001b[0mqual\u001b[0m\u001b[1;33m)\u001b[0m\u001b[1;33m*\u001b[0m\u001b[1;33m(\u001b[0m\u001b[1;36m1\u001b[0m\u001b[1;33m-\u001b[0m\u001b[0mqual\u001b[0m\u001b[1;33m)\u001b[0m\u001b[1;33m)\u001b[0m\u001b[1;33m/\u001b[0m\u001b[1;36m2\u001b[0m \u001b[1;33m+\u001b[0m \u001b[1;33m(\u001b[0m\u001b[0mqual\u001b[0m\u001b[1;33m*\u001b[0m\u001b[0mqual\u001b[0m\u001b[1;33m)\u001b[0m\u001b[1;33m/\u001b[0m\u001b[1;36m2\u001b[0m\u001b[1;33m\u001b[0m\u001b[1;33m\u001b[0m\u001b[0m\n",
            "\u001b[1;32m<ipython-input-62-1d6711cc3c03>\u001b[0m in \u001b[0;36mget_likelihood_heterozygous_genotype\u001b[1;34m(reads, st_en, index, qual)\u001b[0m\n\u001b[0;32m      8\u001b[0m     \u001b[1;32massert\u001b[0m \u001b[0mlen\u001b[0m\u001b[1;33m(\u001b[0m\u001b[0mreads\u001b[0m\u001b[1;33m)\u001b[0m \u001b[1;33m==\u001b[0m \u001b[1;36m2\u001b[0m \u001b[1;32mand\u001b[0m \u001b[0mlen\u001b[0m\u001b[1;33m(\u001b[0m\u001b[0mst_en\u001b[0m\u001b[1;33m)\u001b[0m\u001b[1;33m==\u001b[0m\u001b[1;36m2\u001b[0m\u001b[1;33m\u001b[0m\u001b[1;33m\u001b[0m\u001b[0m\n\u001b[0;32m      9\u001b[0m     \u001b[1;32massert\u001b[0m \u001b[0mindex\u001b[0m\u001b[1;33m>=\u001b[0m\u001b[0mmax\u001b[0m\u001b[1;33m(\u001b[0m\u001b[0mst_en\u001b[0m\u001b[1;33m[\u001b[0m\u001b[1;36m0\u001b[0m\u001b[1;33m]\u001b[0m\u001b[1;33m[\u001b[0m\u001b[1;36m0\u001b[0m\u001b[1;33m]\u001b[0m\u001b[1;33m,\u001b[0m \u001b[0mst_en\u001b[0m\u001b[1;33m[\u001b[0m\u001b[1;36m1\u001b[0m\u001b[1;33m]\u001b[0m\u001b[1;33m[\u001b[0m\u001b[1;36m0\u001b[0m\u001b[1;33m]\u001b[0m\u001b[1;33m)\u001b[0m \u001b[1;32mand\u001b[0m \u001b[0mindex\u001b[0m\u001b[1;33m<=\u001b[0m\u001b[0mmin\u001b[0m\u001b[1;33m(\u001b[0m\u001b[0mst_en\u001b[0m\u001b[1;33m[\u001b[0m\u001b[1;36m0\u001b[0m\u001b[1;33m]\u001b[0m\u001b[1;33m[\u001b[0m\u001b[1;36m1\u001b[0m\u001b[1;33m]\u001b[0m\u001b[1;33m,\u001b[0m \u001b[0mst_en\u001b[0m\u001b[1;33m[\u001b[0m\u001b[1;36m1\u001b[0m\u001b[1;33m]\u001b[0m\u001b[1;33m[\u001b[0m\u001b[1;36m1\u001b[0m\u001b[1;33m]\u001b[0m\u001b[1;33m)\u001b[0m\u001b[1;33m\u001b[0m\u001b[1;33m\u001b[0m\u001b[0m\n\u001b[1;32m---> 10\u001b[1;33m     \u001b[1;32mif\u001b[0m \u001b[0mreads\u001b[0m\u001b[1;33m[\u001b[0m\u001b[1;36m0\u001b[0m\u001b[1;33m]\u001b[0m\u001b[1;33m[\u001b[0m\u001b[0mindex\u001b[0m \u001b[1;33m-\u001b[0m \u001b[0mst_en\u001b[0m\u001b[1;33m[\u001b[0m\u001b[1;36m0\u001b[0m\u001b[1;33m]\u001b[0m\u001b[1;33m[\u001b[0m\u001b[1;36m0\u001b[0m\u001b[1;33m]\u001b[0m\u001b[1;33m]\u001b[0m \u001b[1;33m==\u001b[0m \u001b[0mreads\u001b[0m\u001b[1;33m[\u001b[0m\u001b[1;36m1\u001b[0m\u001b[1;33m]\u001b[0m\u001b[1;33m[\u001b[0m\u001b[0mindex\u001b[0m \u001b[1;33m-\u001b[0m \u001b[0mst_en\u001b[0m\u001b[1;33m[\u001b[0m\u001b[1;36m1\u001b[0m\u001b[1;33m]\u001b[0m\u001b[1;33m[\u001b[0m\u001b[1;36m0\u001b[0m\u001b[1;33m]\u001b[0m\u001b[1;33m]\u001b[0m\u001b[1;33m:\u001b[0m\u001b[1;33m\u001b[0m\u001b[1;33m\u001b[0m\u001b[0m\n\u001b[0m\u001b[0;32m     11\u001b[0m         \u001b[1;31m# Same value at the site\u001b[0m\u001b[1;33m\u001b[0m\u001b[1;33m\u001b[0m\u001b[1;33m\u001b[0m\u001b[0m\n\u001b[0;32m     12\u001b[0m         \u001b[0mlikelihood_same\u001b[0m \u001b[1;33m=\u001b[0m \u001b[1;33m(\u001b[0m\u001b[1;33m(\u001b[0m\u001b[1;36m1\u001b[0m\u001b[1;33m-\u001b[0m\u001b[0mqual\u001b[0m\u001b[1;33m)\u001b[0m\u001b[1;33m*\u001b[0m\u001b[1;33m(\u001b[0m\u001b[1;36m1\u001b[0m\u001b[1;33m-\u001b[0m\u001b[0mqual\u001b[0m\u001b[1;33m)\u001b[0m\u001b[1;33m)\u001b[0m\u001b[1;33m/\u001b[0m\u001b[1;36m2\u001b[0m \u001b[1;33m+\u001b[0m \u001b[1;33m(\u001b[0m\u001b[0mqual\u001b[0m\u001b[1;33m*\u001b[0m\u001b[0mqual\u001b[0m\u001b[1;33m)\u001b[0m\u001b[1;33m/\u001b[0m\u001b[1;36m2\u001b[0m\u001b[1;33m\u001b[0m\u001b[1;33m\u001b[0m\u001b[0m\n",
            "\u001b[1;32m~\\anaconda3\\lib\\bdb.py\u001b[0m in \u001b[0;36mtrace_dispatch\u001b[1;34m(self, frame, event, arg)\u001b[0m\n\u001b[0;32m     86\u001b[0m             \u001b[1;32mreturn\u001b[0m \u001b[1;31m# None\u001b[0m\u001b[1;33m\u001b[0m\u001b[1;33m\u001b[0m\u001b[0m\n\u001b[0;32m     87\u001b[0m         \u001b[1;32mif\u001b[0m \u001b[0mevent\u001b[0m \u001b[1;33m==\u001b[0m \u001b[1;34m'line'\u001b[0m\u001b[1;33m:\u001b[0m\u001b[1;33m\u001b[0m\u001b[1;33m\u001b[0m\u001b[0m\n\u001b[1;32m---> 88\u001b[1;33m             \u001b[1;32mreturn\u001b[0m \u001b[0mself\u001b[0m\u001b[1;33m.\u001b[0m\u001b[0mdispatch_line\u001b[0m\u001b[1;33m(\u001b[0m\u001b[0mframe\u001b[0m\u001b[1;33m)\u001b[0m\u001b[1;33m\u001b[0m\u001b[1;33m\u001b[0m\u001b[0m\n\u001b[0m\u001b[0;32m     89\u001b[0m         \u001b[1;32mif\u001b[0m \u001b[0mevent\u001b[0m \u001b[1;33m==\u001b[0m \u001b[1;34m'call'\u001b[0m\u001b[1;33m:\u001b[0m\u001b[1;33m\u001b[0m\u001b[1;33m\u001b[0m\u001b[0m\n\u001b[0;32m     90\u001b[0m             \u001b[1;32mreturn\u001b[0m \u001b[0mself\u001b[0m\u001b[1;33m.\u001b[0m\u001b[0mdispatch_call\u001b[0m\u001b[1;33m(\u001b[0m\u001b[0mframe\u001b[0m\u001b[1;33m,\u001b[0m \u001b[0marg\u001b[0m\u001b[1;33m)\u001b[0m\u001b[1;33m\u001b[0m\u001b[1;33m\u001b[0m\u001b[0m\n",
            "\u001b[1;32m~\\anaconda3\\lib\\bdb.py\u001b[0m in \u001b[0;36mdispatch_line\u001b[1;34m(self, frame)\u001b[0m\n\u001b[0;32m    111\u001b[0m         \u001b[1;32mif\u001b[0m \u001b[0mself\u001b[0m\u001b[1;33m.\u001b[0m\u001b[0mstop_here\u001b[0m\u001b[1;33m(\u001b[0m\u001b[0mframe\u001b[0m\u001b[1;33m)\u001b[0m \u001b[1;32mor\u001b[0m \u001b[0mself\u001b[0m\u001b[1;33m.\u001b[0m\u001b[0mbreak_here\u001b[0m\u001b[1;33m(\u001b[0m\u001b[0mframe\u001b[0m\u001b[1;33m)\u001b[0m\u001b[1;33m:\u001b[0m\u001b[1;33m\u001b[0m\u001b[1;33m\u001b[0m\u001b[0m\n\u001b[0;32m    112\u001b[0m             \u001b[0mself\u001b[0m\u001b[1;33m.\u001b[0m\u001b[0muser_line\u001b[0m\u001b[1;33m(\u001b[0m\u001b[0mframe\u001b[0m\u001b[1;33m)\u001b[0m\u001b[1;33m\u001b[0m\u001b[1;33m\u001b[0m\u001b[0m\n\u001b[1;32m--> 113\u001b[1;33m             \u001b[1;32mif\u001b[0m \u001b[0mself\u001b[0m\u001b[1;33m.\u001b[0m\u001b[0mquitting\u001b[0m\u001b[1;33m:\u001b[0m \u001b[1;32mraise\u001b[0m \u001b[0mBdbQuit\u001b[0m\u001b[1;33m\u001b[0m\u001b[1;33m\u001b[0m\u001b[0m\n\u001b[0m\u001b[0;32m    114\u001b[0m         \u001b[1;32mreturn\u001b[0m \u001b[0mself\u001b[0m\u001b[1;33m.\u001b[0m\u001b[0mtrace_dispatch\u001b[0m\u001b[1;33m\u001b[0m\u001b[1;33m\u001b[0m\u001b[0m\n\u001b[0;32m    115\u001b[0m \u001b[1;33m\u001b[0m\u001b[0m\n",
            "\u001b[1;31mBdbQuit\u001b[0m: "
          ]
        }
      ],
      "source": [
        "calculate_likelihood_of_heterozygous_site(ref_H, false_variant_locs, samples, st_en, 22, 0.02)"
      ]
    },
    {
      "cell_type": "code",
      "execution_count": 47,
      "id": "c43ff002",
      "metadata": {},
      "outputs": [
        {
          "name": "stdout",
          "output_type": "stream",
          "text": [
            "False variant locations are [3, 9, 15]\n",
            "reference haplotype values for the variants are:\n",
            "\n",
            "\n",
            "0 0 1 0 1 1 0 0 0 1 0 1 1 0 1 0 0 1 0 0 0 1 0 0 1 1 0 1 1 1\n",
            "1 1 0 0 0 0 1 1 1 1 1 0 0 1 0 0 1 0 1 1 1 0 1 1 0 0 1 0 0 0\n",
            "\n",
            "\n",
            "- - - - - - - - - - - - - - - - 0 1 0 0 0 1 - - - - - - - -\n",
            "- - - - - - - - - - - - - - - - 0 1 0 0 0 1 - - - - - - - -\n",
            "- - - - - - - - - - - - - - - - - 1 0 0 0 1 0 - - - - - - -\n",
            "- - - - - - - - - - - - - - - - - - 1 1 1 0 1 1 - - - - - -\n",
            "- - - - - - - - - - - - - - - - - - - 1 1 0 1 - - - - - - -\n",
            "- - - - - - - - - - - - - - - - - - - 0 0 1 0 0 1 - - - - -\n",
            "- - - - - - - - - - - - - - - - - - - - 1 0 1 1 - - - - - -\n",
            "- - - - - - - - - - - - - - - - - - - - 0 1 0 0 - - - - - -\n",
            "- - - - - - - - - - - - - - - - - - - - 1 0 1 1 0 - - - - -\n",
            "- - - - - - - - - - - - - - - - - - - - - 0 1 1 0 0 1 - - -\n",
            "- - - - - - - - - - - - - - - - - - - - - - 0 0 1 1 0 - - -\n"
          ]
        }
      ],
      "source": [
        "\n",
        "over_S, over_st_en =  get_overlapping_fragments_for_variants_sites(S1, ST_EN, 22)\n",
        "generate_matrix_for_visualization(ref_H, false_variant_locs, # er_hap_samples, sts_ens)\n",
        "                                  over_S, over_st_en)"
      ]
    },
    {
      "cell_type": "code",
      "execution_count": 33,
      "id": "22c65c6d-8121-463d-ba30-757820ff34e8",
      "metadata": {
        "colab": {
          "base_uri": "https://localhost:8080/"
        },
        "id": "22c65c6d-8121-463d-ba30-757820ff34e8",
        "outputId": "4959fa69-1aa2-453e-97c7-19cc97bbaced"
      },
      "outputs": [
        {
          "name": "stdout",
          "output_type": "stream",
          "text": [
            "(0.9411919999999999, 8.000000000000001e-06)\n"
          ]
        }
      ],
      "source": [
        "print(get_probability_fragments_from_same_fragment(S1[2:2+2], ST_EN[2:2+2], 3, 0.02))\n",
        "# for i in range(len(S1)-2):\n",
        "#     print(get_probability_fragments_from_same_fragment(S1[i:i+2], ST_EN[i:i+2], 3, 0.02)"
      ]
    },
    {
      "cell_type": "code",
      "execution_count": 9,
      "id": "ed19296a-8e65-4197-b10f-ce21cf87dfa4",
      "metadata": {
        "id": "ed19296a-8e65-4197-b10f-ce21cf87dfa4"
      },
      "outputs": [
        {
          "name": "stdout",
          "output_type": "stream",
          "text": [
            "False variant locations are [0, 3, 18]\n",
            "reference haplotype values for the variants are:\n",
            "\n",
            "\n",
            "1 1 1 1 1 0 0 0 1 1 1 1 0 1 1 0 1 0 0 1 1 1 1 1 1 1 1 0 1 0\n",
            "1 0 0 1 0 1 1 1 0 0 0 0 1 0 0 1 0 1 0 0 0 0 0 0 0 0 0 1 0 1\n",
            "\n",
            "\n",
            "1 1 1 1 1 0 - - - - - - - - - - - - - - - - - - - - - - - -\n",
            "1 1 1 1 1 0 - - - - - - - - - - - - - - - - - - - - - - - -\n",
            "- - 0 1 0 1 - - - - - - - - - - - - - - - - - - - - - - - -\n",
            "- - - 1 1 0 0 0 - - - - - - - - - - - - - - - - - - - - - -\n",
            "- - - - 0 1 1 1 - - - - - - - - - - - - - - - - - - - - - -\n",
            "- - - - 1 0 0 0 1 - - - - - - - - - - - - - - - - - - - - -\n",
            "- - - - - 0 0 0 1 1 - - - - - - - - - - - - - - - - - - - -\n",
            "- - - - - - 1 1 0 0 - - - - - - - - - - - - - - - - - - - -\n",
            "- - - - - - 1 1 0 0 0 0 1 - - - - - - - - - - - - - - - - -\n",
            "- - - - - - - 1 0 0 0 - - - - - - - - - - - - - - - - - - -\n",
            "- - - - - - - 0 1 1 1 1 - - - - - - - - - - - - - - - - - -\n",
            "- - - - - - - - - 0 0 0 - - - - - - - - - - - - - - - - - -\n",
            "- - - - - - - - - - 1 1 0 1 - - - - - - - - - - - - - - - -\n",
            "- - - - - - - - - - 0 0 1 0 - - - - - - - - - - - - - - - -\n",
            "- - - - - - - - - - - 1 0 1 - - - - - - - - - - - - - - - -\n",
            "- - - - - - - - - - - 1 0 1 - - - - - - - - - - - - - - - -\n",
            "- - - - - - - - - - - 0 1 0 0 1 - - - - - - - - - - - - - -\n",
            "- - - - - - - - - - - - - 0 0 1 0 1 - - - - - - - - - - - -\n",
            "- - - - - - - - - - - - - - - 1 0 1 - - - - - - - - - - - -\n",
            "- - - - - - - - - - - - - - - 0 1 0 0 - - - - - - - - - - -\n",
            "- - - - - - - - - - - - - - - 0 1 0 0 1 - - - - - - - - - -\n",
            "- - - - - - - - - - - - - - - - 0 1 0 - - - - - - - - - - -\n",
            "- - - - - - - - - - - - - - - - 1 0 0 - - - - - - - - - - -\n",
            "- - - - - - - - - - - - - - - - - 1 0 0 0 0 - - - - - - - -\n",
            "- - - - - - - - - - - - - - - - - 1 0 0 0 0 - - - - - - - -\n",
            "- - - - - - - - - - - - - - - - - 1 0 0 0 0 0 - - - - - - -\n",
            "- - - - - - - - - - - - - - - - - - 0 1 1 1 - - - - - - - -\n",
            "- - - - - - - - - - - - - - - - - - - 0 0 0 0 0 - - - - - -\n",
            "- - - - - - - - - - - - - - - - - - - - 0 0 0 0 - - - - - -\n",
            "- - - - - - - - - - - - - - - - - - - - 1 1 1 1 - - - - - -\n",
            "- - - - - - - - - - - - - - - - - - - - - 1 1 1 1 - - - - -\n",
            "- - - - - - - - - - - - - - - - - - - - - - 1 1 1 1 1 - - -\n",
            "- - - - - - - - - - - - - - - - - - - - - - - 0 0 0 0 - - -\n",
            "- - - - - - - - - - - - - - - - - - - - - - - - 0 0 0 1 - -\n",
            "- - - - - - - - - - - - - - - - - - - - - - - - 0 0 0 1 0 -\n",
            "- - - - - - - - - - - - - - - - - - - - - - - - 0 0 0 1 0 -\n"
          ]
        }
      ],
      "source": []
    },
    {
      "cell_type": "code",
      "execution_count": null,
      "id": "dc764548-9f54-46ed-b2f0-e333c8a240d6",
      "metadata": {
        "colab": {
          "base_uri": "https://localhost:8080/"
        },
        "id": "dc764548-9f54-46ed-b2f0-e333c8a240d6",
        "outputId": "9e22bac3-3350-4d7e-fd2b-89c97a4c14f1"
      },
      "outputs": [],
      "source": []
    },
    {
      "cell_type": "code",
      "execution_count": null,
      "id": "2295ce0f-a634-4998-ac34-096ef7ec2e9b",
      "metadata": {
        "colab": {
          "base_uri": "https://localhost:8080/"
        },
        "id": "2295ce0f-a634-4998-ac34-096ef7ec2e9b",
        "outputId": "eea39f8c-c30d-4d6b-ddb9-cbbc3e73d820"
      },
      "outputs": [],
      "source": []
    },
    {
      "cell_type": "code",
      "execution_count": 8,
      "id": "LBCFBeahA9KB",
      "metadata": {
        "id": "LBCFBeahA9KB"
      },
      "outputs": [],
      "source": []
    },
    {
      "cell_type": "code",
      "execution_count": null,
      "id": "vcxYpmTZWEXK",
      "metadata": {
        "id": "vcxYpmTZWEXK"
      },
      "outputs": [],
      "source": []
    },
    {
      "cell_type": "code",
      "execution_count": null,
      "id": "xGNisT-_WJaJ",
      "metadata": {
        "id": "xGNisT-_WJaJ"
      },
      "outputs": [],
      "source": []
    },
    {
      "cell_type": "markdown",
      "id": "6lb_vsWDwELC",
      "metadata": {
        "id": "6lb_vsWDwELC"
      },
      "source": [
        "Notes: We want to incorporate sequencing errors in the fragments f1 and f2 and get the confidence whether f1 and f2 belong from the same haplotype. Use some probablity to guess whether f1 and f2 belong to the same haplotype. \n",
        "\n",
        "Now once we have a probablity that f1 and f2 belong to the same haplotype, we want to check whether a variant is a false variant.\n",
        "\n",
        "What is a false variant ? \n",
        "False variant is a location where the alleles are homozygous but the sequencing \n",
        "assumes / wrongly interprets the site as heterozygous. \n",
        "Hitherto, in the fragments (for these false variants) there would be a substantial amount of fragments where this site has the same allele say 0 for \n",
        "both fragments coming from both H1 and H2 (as it is not really a variant hence same allele is observed irrespective sample from H1 or H2 (0, 0) in the given position).\n",
        "\n",
        "However for sequencing errors the errors are randomly distributed among different variants for different fragments.\n",
        "\n",
        "Problem statement, we want to identify these false variant locations for the \n",
        "sequenced data, as these become difficult to handle while performing Hap assembly.\n",
        "\n",
        "When we have a good coverage for a particular false variant, \n",
        "if we have fragment f1 which belongs to H1 and a fragment f2 which belongs to H2, the value for the variants are complement of each other except for the false variant. \n",
        "\n",
        "Now we dont know whether the fragment belongs to either H1 or H2, "
      ]
    }
  ],
  "metadata": {
    "colab": {
      "name": "HAP_simulation.ipynb",
      "provenance": []
    },
    "kernelspec": {
      "display_name": "Python 3",
      "language": "python",
      "name": "python3"
    },
    "language_info": {
      "codemirror_mode": {
        "name": "ipython",
        "version": 3
      },
      "file_extension": ".py",
      "mimetype": "text/x-python",
      "name": "python",
      "nbconvert_exporter": "python",
      "pygments_lexer": "ipython3",
      "version": "3.8.8"
    }
  },
  "nbformat": 4,
  "nbformat_minor": 5
}
